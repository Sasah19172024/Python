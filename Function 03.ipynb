{
 "cells": [
  {
   "cell_type": "markdown",
   "metadata": {},
   "source": [
    "# Argumentos/Parâmetros da Função\n",
    "\n",
    "### Estrutura:"
   ]
  },
  {
   "cell_type": "raw",
   "metadata": {},
   "source": [
    "def minha_funcao(parametro1, parametro2, parametro3):\n",
    "    return parametro1 + parametro2 + parametro3"
   ]
  },
  {
   "cell_type": "code",
   "execution_count": 19,
   "metadata": {},
   "outputs": [
    {
     "name": "stdout",
     "output_type": "stream",
     "text": [
      "oi\n"
     ]
    },
    {
     "ename": "NameError",
     "evalue": "name 'true' is not defined",
     "output_type": "error",
     "traceback": [
      "\u001b[1;31m---------------------------------------------------------------------------\u001b[0m",
      "\u001b[1;31mNameError\u001b[0m                                 Traceback (most recent call last)",
      "Input \u001b[1;32mIn [19]\u001b[0m, in \u001b[0;36m<cell line: 15>\u001b[1;34m()\u001b[0m\n\u001b[0;32m     12\u001b[0m         \u001b[38;5;28;01mif\u001b[39;00m \u001b[38;5;124m'\u001b[39m\u001b[38;5;124ma\u001b[39m\u001b[38;5;124m'\u001b[39m \u001b[38;5;129;01min\u001b[39;00m i:\n\u001b[0;32m     13\u001b[0m             \u001b[38;5;28;01mreturn\u001b[39;00m false\n\u001b[1;32m---> 15\u001b[0m \u001b[43mnegocio\u001b[49m\u001b[43m(\u001b[49m\u001b[43mprod\u001b[49m\u001b[43m)\u001b[49m\n",
      "Input \u001b[1;32mIn [19]\u001b[0m, in \u001b[0;36mnegocio\u001b[1;34m(pro)\u001b[0m\n\u001b[0;32m      9\u001b[0m \u001b[38;5;28;01mfor\u001b[39;00m i \u001b[38;5;129;01min\u001b[39;00m pro:\n\u001b[0;32m     10\u001b[0m     \u001b[38;5;28;01mif\u001b[39;00m \u001b[38;5;124m'\u001b[39m\u001b[38;5;124mm\u001b[39m\u001b[38;5;124m'\u001b[39m \u001b[38;5;129;01min\u001b[39;00m i:\n\u001b[1;32m---> 11\u001b[0m         \u001b[38;5;28;01mreturn\u001b[39;00m \u001b[43mtrue\u001b[49m\n\u001b[0;32m     12\u001b[0m     \u001b[38;5;28;01mif\u001b[39;00m \u001b[38;5;124m'\u001b[39m\u001b[38;5;124ma\u001b[39m\u001b[38;5;124m'\u001b[39m \u001b[38;5;129;01min\u001b[39;00m i:\n\u001b[0;32m     13\u001b[0m         \u001b[38;5;28;01mreturn\u001b[39;00m false\n",
      "\u001b[1;31mNameError\u001b[0m: name 'true' is not defined"
     ]
    }
   ],
   "source": [
    "def p(escreva):\n",
    "    return print(escreva)\n",
    "\n",
    "p(\"oi\")\n",
    "\n",
    "prod = ['maça', 'banana', 'uva']\n",
    "\n",
    "def negocio(pro):\n",
    "    for i in pro:\n",
    "        if 'm' in i:\n",
    "            return true\n",
    "        if 'a' in i:\n",
    "            return false\n",
    "    \n",
    "negocio(prod)"
   ]
  },
  {
   "cell_type": "code",
   "execution_count": 11,
   "metadata": {},
   "outputs": [
    {
     "name": "stdout",
     "output_type": "stream",
     "text": [
      "6\n"
     ]
    }
   ],
   "source": [
    "def soma(num1, num2, num3):\n",
    "    return num1 + num2 + num3\n",
    "\n",
    "minha_soma = soma(1, 2, 3)\n",
    "print(minha_soma)"
   ]
  },
  {
   "cell_type": "markdown",
   "metadata": {},
   "source": [
    "- Exemplo: nosso famoso print"
   ]
  },
  {
   "cell_type": "code",
   "execution_count": 5,
   "metadata": {},
   "outputs": [
    {
     "name": "stdout",
     "output_type": "stream",
     "text": [
      "Minhas vendas de Agosto froam de 50\n"
     ]
    }
   ],
   "source": [
    "vendas = 50\n",
    "print('Minhas', 'vendas', 'de', 'Agosto', 'froam', 'de', vendas)"
   ]
  },
  {
   "cell_type": "markdown",
   "metadata": {},
   "source": [
    "- Só para mostrar o funcionamento, vamos criar uma função de soma"
   ]
  },
  {
   "cell_type": "code",
   "execution_count": 8,
   "metadata": {},
   "outputs": [
    {
     "name": "stdout",
     "output_type": "stream",
     "text": [
      "4\n"
     ]
    }
   ],
   "source": [
    "def multiplicar(num1, num2):\n",
    "    return num1 * num2\n",
    "\n",
    "mult = multiplicar(2, 2)\n",
    "print(mult)"
   ]
  },
  {
   "cell_type": "markdown",
   "metadata": {},
   "source": [
    "- Vamos criar uma function com parâmetro\n",
    "\n",
    "Digamos que estamos criando um programa para categorizar os produtos de uma revendedora de bebidas.\n",
    "\n",
    "Cada produto tem um código. O tipo de produto é dado pelas 3 primeiras letras do código.\n",
    "\n",
    "Ex:<br>\n",
    "Vinho -> BEB12302<br>\n",
    "Cerveja -> BEB12043<br>\n",
    "Vodka -> BEB34501<br>\n",
    "\n",
    "Guaraná -> BSA11104<br>\n",
    "Coca -> BSA54301<br>\n",
    "Sprite -> BSA34012<br>\n",
    "Água -> BSA09871<br>\n",
    "\n",
    "Repare que bebidas não alcóolicas começam com BSA e bebidas alcoolicas começam com BEB.\n",
    "\n",
    "Crie um programa que analise uma lista de produtos e envie instruções para a equipe de estoque dizendo quais produtos devem ser enviados para a área de bebidas alcóolicas."
   ]
  },
  {
   "cell_type": "code",
   "execution_count": 14,
   "metadata": {},
   "outputs": [
    {
     "name": "stdout",
     "output_type": "stream",
     "text": [
      "O produto beb46275 é alcoolico\n",
      "O produto BEB21365 é alcoolico\n",
      "O produto BEB31623 é alcoolico\n",
      "O produto BEB73344 é alcoolico\n",
      "O produto BEB80694 é alcoolico\n",
      "O produto BEB19495 é alcoolico\n",
      "O produto BEB97471 é alcoolico\n",
      "O produto BEB62362 é alcoolico\n",
      "O produto BEB85146 é alcoolico\n",
      "O produto BEB48898 é alcoolico\n",
      "O produto BEB79496 é alcoolico\n",
      "O produto BEB15385 é alcoolico\n",
      "O produto BEB24213 é alcoolico\n",
      "O produto BEB56262 é alcoolico\n",
      "O produto BEB75073 é alcoolico\n"
     ]
    }
   ],
   "source": [
    "produtos = ['beb46275','TFA23962','TFA64715','TFA69555','TFA56743','BSA45510','TFA44968','CAR75448','CAR23596','CAR13490','BEB21365','BEB31623','BSA62419','BEB73344','TFA20079','BEB80694','BSA11769','BEB19495','TFA14792','TFA78043','BSA33484','BEB97471','BEB62362','TFA27311','TFA17715','BEB85146','BEB48898','BEB79496','CAR38417','TFA19947','TFA58799','CAR94811','BSA59251','BEB15385','BEB24213','BEB56262','BSA96915','CAR53454','BEB75073']\n",
    "\n",
    "def ehalcoolica(bebida):\n",
    "    bebida = bebida.upper()\n",
    "    if 'BEB' in bebida:\n",
    "        return True\n",
    "    else:\n",
    "        return False\n",
    "    \n",
    "for produto in produtos:\n",
    "    if ehalcoolica(produto):\n",
    "        print('O produto {} é alcoolico'.format(produto))\n",
    "    "
   ]
  },
  {
   "cell_type": "code",
   "execution_count": 12,
   "metadata": {},
   "outputs": [
    {
     "name": "stdout",
     "output_type": "stream",
     "text": [
      "Bedida nao alcolica\n",
      "Bedida nao alcolica\n",
      "Bedida nao alcolica\n",
      "Bedida nao alcolica\n",
      "Bedida nao alcolica\n",
      "Bedida nao alcolica\n",
      "Bedida nao alcolica\n",
      "Bedida nao alcolica\n",
      "Bedida nao alcolica\n",
      "Bedida nao alcolica\n",
      "Bebida alcolica\n",
      "Bebida alcolica\n",
      "Bedida nao alcolica\n",
      "Bebida alcolica\n",
      "Bedida nao alcolica\n",
      "Bebida alcolica\n",
      "Bedida nao alcolica\n",
      "Bebida alcolica\n",
      "Bedida nao alcolica\n",
      "Bedida nao alcolica\n",
      "Bedida nao alcolica\n",
      "Bebida alcolica\n",
      "Bebida alcolica\n",
      "Bedida nao alcolica\n",
      "Bedida nao alcolica\n",
      "Bebida alcolica\n",
      "Bebida alcolica\n",
      "Bebida alcolica\n",
      "Bedida nao alcolica\n",
      "Bedida nao alcolica\n",
      "Bedida nao alcolica\n",
      "Bedida nao alcolica\n",
      "Bedida nao alcolica\n",
      "Bebida alcolica\n",
      "Bebida alcolica\n",
      "Bebida alcolica\n",
      "Bedida nao alcolica\n",
      "Bedida nao alcolica\n",
      "Bebida alcolica\n"
     ]
    }
   ],
   "source": [
    "\n",
    "produtos = ['beb46275','TFA23962','TFA64715','TFA69555','TFA56743','BSA45510','TFA44968','CAR75448','CAR23596','CAR13490','BEB21365','BEB31623','BSA62419','BEB73344','TFA20079','BEB80694','BSA11769','BEB19495','TFA14792','TFA78043','BSA33484','BEB97471','BEB62362','TFA27311','TFA17715','BEB85146','BEB48898','BEB79496','CAR38417','TFA19947','TFA58799','CAR94811','BSA59251','BEB15385','BEB24213','BEB56262','BSA96915','CAR53454','BEB75073']\n",
    "\n",
    "def verificar(produtos):\n",
    "    for item in produtos:\n",
    "        if 'BEB' in item:\n",
    "            print('Bebida alcolica')\n",
    "        else:\n",
    "            print('Bedida nao alcolica')\n",
    "verificar(produtos)"
   ]
  }
 ],
 "metadata": {
  "kernelspec": {
   "display_name": "Python 3 (ipykernel)",
   "language": "python",
   "name": "python3"
  },
  "language_info": {
   "codemirror_mode": {
    "name": "ipython",
    "version": 3
   },
   "file_extension": ".py",
   "mimetype": "text/x-python",
   "name": "python",
   "nbconvert_exporter": "python",
   "pygments_lexer": "ipython3",
   "version": "3.9.12"
  }
 },
 "nbformat": 4,
 "nbformat_minor": 4
}
