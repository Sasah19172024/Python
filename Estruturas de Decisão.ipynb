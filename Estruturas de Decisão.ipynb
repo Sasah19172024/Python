{
 "cells": [
  {
   "cell_type": "markdown",
   "id": "8535c274",
   "metadata": {
    "id": "8535c274"
   },
   "source": [
    "# Estruturas de decisão\n",
    "\n",
    "<span style=\"color: red;\"><b>Todos os exercícios são feitos partindo-se do pressuposto de que todas as entradas são dadas de forma correta. Casos limite não mencionados no enunciado não são abordados porque não fazem parte do exercício.</b></span>"
   ]
  },
  {
   "cell_type": "markdown",
   "id": "9c3d817e",
   "metadata": {
    "id": "9c3d817e"
   },
   "source": [
    "#### 1. Faça um Programa que peça dois números e imprima o maior deles."
   ]
  },
  {
   "cell_type": "code",
   "execution_count": 31,
   "id": "ae45c028",
   "metadata": {
    "id": "ae45c028"
   },
   "outputs": [
    {
     "name": "stdout",
     "output_type": "stream",
     "text": [
      "Digite um numero: 4\n",
      "Digite outro numero: 4\n",
      "Os numeros nao iguais\n"
     ]
    }
   ],
   "source": [
    "num_1 = float(input('Digite um numero: '))\n",
    "num_2 = float(input('Digite outro numero: '))\n",
    "\n",
    "if num_1 > num_2:\n",
    "    print('O numero {} é maior'.format(num_1))\n",
    "elif num_2 > num_1:\n",
    "    print('O numero {} é maior'.format(num_2))\n",
    "else:\n",
    "    print('Os numeros nao iguais')\n",
    "\n"
   ]
  },
  {
   "cell_type": "markdown",
   "id": "ff510803",
   "metadata": {
    "id": "ff510803"
   },
   "source": [
    "#### 2. Faça um Programa que peça um valor e mostre na tela se o valor é positivo ou negativo."
   ]
  },
  {
   "cell_type": "code",
   "execution_count": 8,
   "id": "8952f58f",
   "metadata": {
    "id": "8952f58f"
   },
   "outputs": [
    {
     "name": "stdout",
     "output_type": "stream",
     "text": [
      "Digite um valor: 5\n",
      "O numero 5 é positivo\n"
     ]
    }
   ],
   "source": [
    "valor = input('Digite um valor: ')\n",
    "\n",
    "if '-' in valor:\n",
    "    print('O numero {} é negativo'.format(valor))\n",
    "else:\n",
    "    print('O numero {} é positivo'.format(valor))\n",
    "    \n",
    "#outro modo\n",
    "numero = float(input('Informe um número: '))\n",
    "\n",
    "if numero > 0:\n",
    "    print('O número é positivo')\n",
    "elif numero < 0:\n",
    "    print('O número é negativo')\n",
    "else:\n",
    "    print('O número é zero')"
   ]
  },
  {
   "cell_type": "markdown",
   "id": "6966546b",
   "metadata": {
    "id": "6966546b"
   },
   "source": [
    "#### 3. Faça um Programa que verifique o estado civil de uma pessoa. Se a letra digitada é \"C\" (Casado), \"S\" (Solteiro), \"D\" (Divorciado), \"V\" (Viúvo) ou \"O\" (outros). Conforme a letra escrita pelo usuário seu programa deve escrever o estado civil, exemplo:\n",
    "\n",
    "Usuário digita: C\n",
    "\n",
    "Seu programa deve responder:\n",
    "C - Casado"
   ]
  },
  {
   "cell_type": "code",
   "execution_count": 12,
   "id": "876a1e67",
   "metadata": {
    "id": "876a1e67"
   },
   "outputs": [
    {
     "name": "stdout",
     "output_type": "stream",
     "text": [
      "Qual seu estado civil\n",
      "               C-Casado\n",
      "               S-Solteiro\n",
      "               D-Divorciado\n",
      "               v-Viuvo\n",
      "               o-Outros: o\n",
      "O-Outros\n"
     ]
    }
   ],
   "source": [
    "estado = input('''Qual seu estado civil\n",
    "               C-Casado\n",
    "               S-Solteiro\n",
    "               D-Divorciado\n",
    "               v-Viuvo\n",
    "               o-Outros: ''').lower()\n",
    "\n",
    "if estado == 'c':\n",
    "    print('C-Casado')\n",
    "elif estado == 's':\n",
    "    print('S-Solteiro')\n",
    "elif estado == 'd':\n",
    "    print('D-Divorciado')\n",
    "elif estado == 'v':\n",
    "    print('V-Viuvo')\n",
    "else:\n",
    "    print('O-Outros')"
   ]
  },
  {
   "cell_type": "markdown",
   "id": "c122c0cf",
   "metadata": {
    "id": "c122c0cf"
   },
   "source": [
    "#### 4. Faça um Programa que verifique se o e-mail digitado faz parte dos e-mails de spam."
   ]
  },
  {
   "cell_type": "code",
   "execution_count": 16,
   "id": "59bed184",
   "metadata": {
    "id": "59bed184"
   },
   "outputs": [
    {
     "name": "stdout",
     "output_type": "stream",
     "text": [
      "Digite seu emailbeltrano@gmail.com\n",
      "Esse email é Spam\n"
     ]
    }
   ],
   "source": [
    "emails_spam = \"fulano@gmail.com,beltrano@gmail.com,ciclano@gmail.com\"\n",
    "email = input('Digite seu email')\n",
    "\n",
    "\n",
    "\"\"\"if 'fulano' in emails_spam or 'beltrano' in emails_spam or 'ciclano' in emails_spam:\n",
    "    print('Esse email é Spam')\n",
    "else:\n",
    "    print('Esse email é seguro')\"\"\"\n",
    "\n",
    "\n",
    "if email in emails_spam:\n",
    "     print('Esse email é Spam')\n",
    "else:\n",
    "    print('Esse email é seguro')"
   ]
  },
  {
   "cell_type": "markdown",
   "id": "487ee073",
   "metadata": {
    "id": "487ee073"
   },
   "source": [
    "#### 5. Faça um programa para a leitura de duas notas parciais de um aluno. O programa deve calcular a média alcançada por aluno e apresentar:\n",
    "\n",
    "##### A mensagem \"Aprovado\", se a média alcançada for maior ou igual a sete;\n",
    "##### A mensagem \"Reprovado\", se a média for menor do que sete;\n",
    "##### A mensagem \"Aprovado com Distinção\", se a média for igual a dez."
   ]
  },
  {
   "cell_type": "code",
   "execution_count": 29,
   "id": "7f5c7096",
   "metadata": {
    "id": "7f5c7096"
   },
   "outputs": [
    {
     "name": "stdout",
     "output_type": "stream",
     "text": [
      "Digite sua primeira nota: 10\n",
      "Digite sua segunda nota: 10\n",
      "Aprovado com Distinção\n"
     ]
    }
   ],
   "source": [
    "nota_1 = float(input('Digite sua primeira nota: '))\n",
    "nota_2 = float(input('Digite sua segunda nota: '))\n",
    "media =(nota_1 + nota_2) / 2\n",
    "\n",
    "if media < 7:\n",
    "    print('Media {}, Reprovado'.format(media))\n",
    "elif media >= 7 and media < 10:\n",
    "    print('Media {}, Aprovado'.format(media))\n",
    "else:\n",
    "    print('Aprovado com Distinção')"
   ]
  },
  {
   "cell_type": "markdown",
   "id": "6dd3f171",
   "metadata": {
    "id": "6dd3f171"
   },
   "source": [
    "#### 6. Faça um Programa que leia o orçamento de 3 empresas e mostre o maior deles."
   ]
  },
  {
   "cell_type": "code",
   "execution_count": 34,
   "id": "51b591e5",
   "metadata": {
    "id": "51b591e5"
   },
   "outputs": [
    {
     "name": "stdout",
     "output_type": "stream",
     "text": [
      "Digite seu oreçamento: 5000\n",
      "Digite seu oreçamento: 75555\n",
      "Digite seu oreçamento: 900000\n",
      "A empresa 3 tem o maior orçamento com 900000.0 reais\n"
     ]
    }
   ],
   "source": [
    "empresa_1 = float(input('Digite seu oreçamento: '))\n",
    "empresa_2 = float(input('Digite seu oreçamento: '))\n",
    "empresa_3 = float(input('Digite seu oreçamento: '))\n",
    "\n",
    "if empresa_1 > empresa_2 and empresa_1 > empresa_3:\n",
    "    print('A empresa 1 tem o maior orçamento com {} reais'.format(empresa_1))\n",
    "elif empresa_2 > empresa_1 and empresa_2 > empresa_3:\n",
    "    print('A empresa 2 tem o maior orçamento com {} reais'.format(empresa_2))\n",
    "else:\n",
    "    print('A empresa 3 tem o maior orçamento com {} reais'.format(empresa_3))"
   ]
  },
  {
   "cell_type": "markdown",
   "id": "ce09ed1c",
   "metadata": {
    "id": "ce09ed1c"
   },
   "source": [
    "#### 7. Faça um Programa que leia três orçamentos e mostre o maior e o menor deles."
   ]
  },
  {
   "cell_type": "code",
   "execution_count": 40,
   "id": "249f1eb8",
   "metadata": {
    "id": "249f1eb8"
   },
   "outputs": [
    {
     "name": "stdout",
     "output_type": "stream",
     "text": [
      "Digite seu oreçamento: 4\n",
      "Digite seu oreçamento: 5\n",
      "Digite seu oreçamento: 7\n",
      "O maior numero é 7.0\n",
      "O menor numero é 4.0\n"
     ]
    }
   ],
   "source": [
    "orça_1 = float(input('Digite seu oreçamento: '))\n",
    "orça_2 = float(input('Digite seu oreçamento: '))\n",
    "orça_3 = float(input('Digite seu oreçamento: '))\n",
    "\n",
    "if orça_1 > orça_2 and orça_1 > orça_3:\n",
    "    print('O maior numero é {}'.format(orça_1))\n",
    "elif orça_2 > orça_1 and orça_2 > orça_3:\n",
    "    print('O maior numero é {}'.format(orça_2))\n",
    "else: \n",
    "    print('O maior numero é {}'.format(orça_3))\n",
    "    \n",
    "if orça_1 < orça_2 and orça_1 < orça_3:\n",
    "    print('O menor numero é {}'.format(orça_1))\n",
    "elif orça_2 < orça_1 and orça_2 < orça_3:\n",
    "    print('O menor numero é {}'.format(orça_2))\n",
    "else:\n",
    "    print('O menor numero é {}'.format(orça_3))"
   ]
  },
  {
   "cell_type": "markdown",
   "id": "7453d43a",
   "metadata": {
    "id": "7453d43a"
   },
   "source": [
    "#### 8. Faça um programa que pergunte o preço de três produtos e informe qual produto você deve comprar, sabendo que a decisão é sempre pelo mais barato."
   ]
  },
  {
   "cell_type": "code",
   "execution_count": 43,
   "id": "26a9503e",
   "metadata": {
    "id": "26a9503e"
   },
   "outputs": [
    {
     "name": "stdout",
     "output_type": "stream",
     "text": [
      "Qual o preço do produto: 4\n",
      "Qual o preço do produto: 8\n",
      "Qual o preço do produto: 7\n",
      "Deve-se comprar o produto 1 \n"
     ]
    }
   ],
   "source": [
    "pro_1 = float(input('Qual o preço do produto: '))\n",
    "pro_2 = float(input('Qual o preço do produto: '))\n",
    "pro_3 = float(input('Qual o preço do produto: '))\n",
    "\n",
    "if pro_1 < pro_2 and pro_1 < pro_3:\n",
    "    print('Deve-se comprar o produto 1 ')\n",
    "elif pro_2 < pro_1 and pro_2 < pro_3: \n",
    "    print('Deve-se comprar o produto 2 ')\n",
    "else:\n",
    "    print('Deve-se comprar o produto 3 ')"
   ]
  },
  {
   "cell_type": "markdown",
   "id": "9ade258f",
   "metadata": {
    "id": "9ade258f"
   },
   "source": [
    "#### 9. Faça um Programa que leia três números e mostre-os em ordem decrescente."
   ]
  },
  {
   "cell_type": "code",
   "execution_count": null,
   "id": "f194c39e",
   "metadata": {
    "id": "f194c39e"
   },
   "outputs": [],
   "source": [
    "num_1 = int(input('Digite o primeiro numero: '))\n",
    "num_2 = int(input('Digite o segundo numero: '))\n",
    "num_3 = int(input('Digite o terceiro numero: '))\n"
   ]
  },
  {
   "cell_type": "markdown",
   "id": "d06e2fe8",
   "metadata": {
    "id": "d06e2fe8"
   },
   "source": [
    "#### 10. Faça um Programa que pergunte em que turno você estuda. Peça para digitar M-matutino ou V-Vespertino ou N- Noturno. Imprima a mensagem \"Bom Dia!\", \"Boa Tarde!\" ou \"Boa Noite!\" ou \"Valor Inválido!\", conforme o caso."
   ]
  },
  {
   "cell_type": "code",
   "execution_count": 44,
   "id": "1eb36141",
   "metadata": {
    "id": "1eb36141"
   },
   "outputs": [
    {
     "name": "stdout",
     "output_type": "stream",
     "text": [
      "Em qual hora do dia voce estuda? m\n",
      "Bom dia\n"
     ]
    }
   ],
   "source": [
    "estudo = input('Em qual hora do dia voce estuda? ')\n",
    "\n",
    "if estudo == 'm':\n",
    "    print('Bom dia')\n",
    "elif estudo == 'v':\n",
    "    print('Boa tarde')\n",
    "elif estudo == 'n':\n",
    "    print('Boa noite')\n",
    "else:\n",
    "    print('Opção inválida')"
   ]
  },
  {
   "cell_type": "markdown",
   "id": "4864b755",
   "metadata": {
    "id": "4864b755"
   },
   "source": [
    "#### 11. As Organizações Tabajara resolveram dar um aumento de salário aos seus colaboradores e lhe contraram para desenvolver o programa que calculará os reajustes. Faça um programa que recebe o salário de um colaborador e o reajuste segundo o seguinte critério, baseado no salário atual:\n",
    "\n",
    "##### salários até R\\\\$ 280,00 (incluindo) : aumento de 20% \n",
    "\n",
    "##### salários entre R\\\\$ 280,00 e R\\\\$ 700,00 : aumento de 15% \n",
    "\n",
    "##### salários entre R\\\\$ 700,00 e R\\\\$ 1500,00 : aumento de 10% \n",
    "\n",
    "##### salários de R\\\\$ 1500,00 em diante : aumento de 5% Após o aumento ser realizado, informe na tela: \n",
    "\n",
    "###### o salário antes do reajuste;\n",
    "\n",
    "###### o percentual de aumento aplicado;\n",
    "\n",
    "###### o valor do aumento;\n",
    "\n",
    "###### o novo salário, após o aumento.\n",
    "\n",
    "###### Obs: Não vamos nos preocupar tanto com a formatação dos números (nº de casas decimais, por exemplo, veremos isso no próximo módulo)"
   ]
  },
  {
   "cell_type": "code",
   "execution_count": 51,
   "id": "f0d34916",
   "metadata": {
    "id": "f0d34916"
   },
   "outputs": [
    {
     "name": "stdout",
     "output_type": "stream",
     "text": [
      "Qual é o seu salario atual: 1200\n",
      "Seu novo salario vai ser de 1320.0 reais\n",
      "O aumento foi de 10%\n",
      "A diferença é de 120.0\n"
     ]
    }
   ],
   "source": [
    "salario = float(input('Qual é o seu salario atual: '))\n",
    "novo_salario = 0\n",
    "aumento = 0\n",
    "diferençca = 0\n",
    "\n",
    "if salario < 280:\n",
    "    novo_salario = salario + (salario * 0.2)\n",
    "    aumento = '20%'\n",
    "    diferença = novo_salario - salario\n",
    "    print('Seu novo salario vai ser de {} reais'.format(novo_salario))\n",
    "    print(f'''O aumento foi de {aumento}\n",
    "A diferença é de {diferença}''')\n",
    "elif salario > 280 and salario < 700:\n",
    "    novo_salario = salario + (salario * 0.15)\n",
    "    aumento = '15%'\n",
    "    diferença = novo_salario - salario\n",
    "    print('Seu novo salario vai ser de {} reais'.format(novo_salario))\n",
    "    print(f'''O aumento foi de {aumento}\n",
    "A diferença é de {diferença}''')\n",
    "elif salario > 700 and salario < 1500:\n",
    "    novo_salario = salario + (salario * 0.1)\n",
    "    aumento = '10%'\n",
    "    diferença = novo_salario - salario\n",
    "    print('Seu novo salario vai ser de {} reais'.format(novo_salario))\n",
    "    print(f'''O aumento foi de {aumento}\n",
    "A diferença é de {diferença}''')\n",
    "elif salario > 1500:\n",
    "    novo_salario = salario + (salario * 0.05)\n",
    "    aumento = '5%'\n",
    "    diferença = novo_salario - salario\n",
    "    print('Seu novo salario vai ser de {} reais'.format(novo_salario))\n",
    "    print(f'''O aumento foi de {aumento}\n",
    "A diferença é de {diferença}''')"
   ]
  },
  {
   "cell_type": "markdown",
   "id": "b037f1e8",
   "metadata": {
    "id": "b037f1e8"
   },
   "source": [
    "#### 12 . Faça um programa para o cálculo de uma folha de pagamento, sabendo que os descontos são do Imposto de Renda, que depende do salário bruto (conforme tabela abaixo) e que o FGTS corresponde a 11% do Salário Bruto, mas não é descontado (é a empresa que deposita). O Salário Líquido corresponde ao Salário Bruto menos os descontos. O programa deverá pedir ao usuário o valor da sua hora e a quantidade de horas trabalhadas no mês.\n",
    "\n",
    "Desconto do IR:<br>\n",
    "Salário Bruto até 900 (inclusive) - isento<br>\n",
    "Salário Bruto até 1500 (inclusive) - desconto de 5%<br>\n",
    "Salário Bruto até 2500 (inclusive) - desconto de 10%<br>\n",
    "Salário Bruto acima de 2500 - desconto de 20%<br>\n",
    "Imprima na tela as informações, dispostas conforme o exemplo abaixo. No exemplo o valor da hora é 5 e a quantidade de hora é 220.\n",
    "\n",
    "Salário Bruto: (5 * 220)        : R\\\\$ 1100,00<br>\n",
    "(-) IR (5%)                     : R\\\\$   55,00<br>\n",
    "(-) INSS ( 10%)                 : R\\\\$  110,00<br>\n",
    "FGTS (11%)                      : R\\\\$  121,00<br>\n",
    "Total de descontos              : R\\\\$  165,00<br>\n",
    "Salário Liquido                 : R\\\\$  935,00<br>\n",
    "\n",
    "###### Obs: Não vamos nos preocupar tanto com a formatação dos números (nº de casas decimais, por exemplo, veremos isso no próximo módulo)"
   ]
  },
  {
   "cell_type": "code",
   "execution_count": null,
   "id": "dad18bb2",
   "metadata": {
    "id": "dad18bb2"
   },
   "outputs": [],
   "source": []
  },
  {
   "cell_type": "markdown",
   "id": "814fc211",
   "metadata": {
    "id": "814fc211"
   },
   "source": [
    "#### 13. Faça um Programa que leia um número e exiba o dia correspondente da semana. (1-Domingo, 2- Segunda, etc.), se digitar outro valor deve aparecer valor inválido."
   ]
  },
  {
   "cell_type": "code",
   "execution_count": 52,
   "id": "f2c2b8d8",
   "metadata": {
    "id": "f2c2b8d8"
   },
   "outputs": [
    {
     "name": "stdout",
     "output_type": "stream",
     "text": [
      "Digite um  numero pra corresponder ao dia de semana: 5\n",
      "Quinta\n"
     ]
    }
   ],
   "source": [
    "dia = int(input('Digite um  numero pra corresponder ao dia de semana: '))\n",
    "\n",
    "if dia == 1:\n",
    "    print('Domingo')\n",
    "elif dia == 2:\n",
    "    print('Segunda')\n",
    "elif dia == 3:\n",
    "    print('Terça')\n",
    "elif dia == 4:\n",
    "    print('Quarta')\n",
    "elif dia == 5:\n",
    "    print('Quinta')\n",
    "elif dia == 6:\n",
    "    print('Sexta')\n",
    "elif dia == 7:\n",
    "    print('Sabado')\n",
    "else:\n",
    "    print('opção inválida')\n",
    "    "
   ]
  },
  {
   "cell_type": "markdown",
   "id": "6e5f461e",
   "metadata": {
    "id": "6e5f461e"
   },
   "source": [
    "#### 14. Faça um programa que lê as duas notas parciais obtidas por um aluno numa disciplina ao longo de um semestre, e calcule a sua média. Em seguida, mostre qual conceito o aluno teve. A atribuição de conceitos obedece à tabela abaixo:\n",
    "<pre>\n",
    "Média de Aproveitamento  Conceito\n",
    "Entre 9.0 e 10.0        A\n",
    "Entre 7.5 e 9.0         B\n",
    "Entre 6.0 e 7.5         C\n",
    "Entre 4.0 e 6.0         D\n",
    "Entre 4.0 e zero        E\n",
    "</pre>"
   ]
  },
  {
   "cell_type": "code",
   "execution_count": 57,
   "id": "29721a43",
   "metadata": {
    "id": "29721a43"
   },
   "outputs": [
    {
     "name": "stdout",
     "output_type": "stream",
     "text": [
      "Digite sua primeira media: 9\n",
      "Digite sua segunda nota: 7\n",
      "Sua media é de 8.0 e seu conceito é B\n"
     ]
    }
   ],
   "source": [
    "nota_1 = float(input('Digite sua primeira media: '))\n",
    "nota_2 = float(input('Digite sua segunda nota: '))\n",
    "media = (nota_1 + nota_2) / 2\n",
    "\n",
    "if media < 4:\n",
    "    conceito = 'E'\n",
    "    print('Sua media é de {} e seu conceito é {}'.format(media, conceito))\n",
    "elif media > 4 and media < 6:\n",
    "    conceito = 'D'\n",
    "    print('Sua media é de {} e seu conceito é {}'.format(media, conceito))\n",
    "elif media < 7.5 and media > 6:\n",
    "    conceito = 'C'\n",
    "    print('Sua media é de {} e seu conceito é {}'.format(media, conceito))\n",
    "elif media < 9 and media > 7.5:\n",
    "    conceito = 'B'\n",
    "    print('Sua media é de {} e seu conceito é {}'.format(media, conceito))\n",
    "elif media > 9 and media <= 10:\n",
    "    conceito = 'A'\n",
    "    print('Sua media é de {} e seu conceito é {}'.format(media, conceito))"
   ]
  },
  {
   "cell_type": "markdown",
   "id": "e6b3bcaf",
   "metadata": {
    "id": "e6b3bcaf"
   },
   "source": [
    "#### 15. Você está construindo um calendário para controlar dias de trabalho a pedido do RH. Nessa construção, você vai precisar definir quais anos são bissextos e quais não são, para montar o calendário de forma correta. Faça um Programa que peça um número correspondente a um determinado ano e em seguida informe se este ano é ou não bissexto.\n",
    "<pre>\n",
    "Dica para determinar se um ano é bissexto: \n",
    "- São bissextos todos os anos múltiplos de 400, p.ex.: 1600, 2000, 2400, 2800...\n",
    "- São bissextos todos os múltiplos de 4, exceto se for múltiplo de 100 mas não de 400, \n",
    "p.ex.: 1996, 2000, 2004, 2008, 2012, 2016, 2020, 2024, 2028...\n",
    "- Não são bissextos todos os demais anos.<br>\n",
    "ex1: 2004 é múltiplo de 4, mas não é múltiplo de 100, então é bissexto.\n",
    "ex2: 2000 é múltiplo de 4, mas é múltiplo de 100, só que também é multiplo de 400, então é bissexto (porque todo ano múltiplo de 400 é bissexto, independente do resto).\n",
    "ex3: 1900 é múltiplo de 4, é múltiplo de 100, mas não é múltiplo de 400, então não é bissexto\n",
    "\n",
    "</pre>\n",
    "\n",
    "Dica: lembre que: numero % 4 é o resto da divisão do número por 4, ex: 10 % 3 = 1 (já que 10/3 = 3 e resta 1)"
   ]
  },
  {
   "cell_type": "code",
   "execution_count": 70,
   "id": "56af223f",
   "metadata": {
    "id": "56af223f"
   },
   "outputs": [
    {
     "name": "stdout",
     "output_type": "stream",
     "text": [
      "digite o ano: 1900\n",
      "Esse ano nao é bissexto\n"
     ]
    }
   ],
   "source": [
    "ano = int(input('digite o ano: '))\n",
    "\n",
    "if ano % 400 == 0 and ano % 4 == 0:\n",
    "    if ano % 100 == 0 and ano % 400 != 0:\n",
    "        print('Esse ano nao é bissexto')\n",
    "    else:\n",
    "        print('esse ano é bissexto')\n",
    "else:\n",
    "    print('Esse ano nao é bissexto')"
   ]
  },
  {
   "cell_type": "markdown",
   "id": "9fe532c8",
   "metadata": {
    "id": "9fe532c8"
   },
   "source": [
    "#### 16. Faça um Programa para leitura de três notas parciais de um aluno. O programa deve calcular a média alcançada por aluno e presentar:\n",
    "<pre>\n",
    "A mensagem \"Aprovado\", se a média for maior ou igual a 7, com a respectiva média alcançada;\n",
    "A mensagem \"Reprovado\", se a média for menor do que 7, com a respectiva média alcançada;\n",
    "A mensagem \"Aprovado com Distinção\", se a média for igual a 10.\n",
    "</pre>"
   ]
  },
  {
   "cell_type": "code",
   "execution_count": 72,
   "id": "1a56e99f",
   "metadata": {
    "id": "1a56e99f"
   },
   "outputs": [
    {
     "name": "stdout",
     "output_type": "stream",
     "text": [
      "Digite a nota: 10\n",
      "Digite a nota: 10\n",
      "Digite a nota: 10\n",
      "Aprovado com Distinção, media  10.0\n"
     ]
    }
   ],
   "source": [
    "nota_1 = float(input('Digite a nota: '))\n",
    "nota_2 = float(input('Digite a nota: '))\n",
    "nota_3 = float(input('Digite a nota: '))\n",
    "media = (nota_1 + nota_2 + nota_3) / 3\n",
    "\n",
    "if media == 10:\n",
    "    print('Aprovado com Distinção, media ', media)\n",
    "elif media < 10 and media > 7:\n",
    "    print('Aprovado, media ', media)\n",
    "elif media < 7:\n",
    "    print('Reprovado, media ', media)"
   ]
  },
  {
   "cell_type": "markdown",
   "id": "d544412e",
   "metadata": {
    "id": "d544412e"
   },
   "source": [
    "#### 17. João Papo-de-Pescador, homem de bem, comprou um microcomputador para controlar o rendimento diário de seu trabalho. Toda vez que ele traz um peso de peixes maior que o estabelecido pelo regulamento de pesca do estado de São Paulo (50 quilos) deve pagar uma multa de R$ 4,00 por quilo excedente. João precisa que você faça um programa que leia a variável peso (peso de peixes) e calcule o excesso. Gravar na variável excesso a quantidade de quilos além do limite e na variável multa o valor da multa que João deverá pagar. Imprima os dados do programa com as mensagens adequadas."
   ]
  },
  {
   "cell_type": "code",
   "execution_count": 73,
   "id": "971ed027",
   "metadata": {
    "id": "971ed027"
   },
   "outputs": [
    {
     "name": "stdout",
     "output_type": "stream",
     "text": [
      "Qual o Kg do peixe: 60\n",
      "Voce tera que pagar uma multa de  14.0\n"
     ]
    }
   ],
   "source": [
    "peixe = float(input('Qual o Kg do peixe: '))\n",
    "permetido = 50\n",
    "taxa = 4\n",
    "\n",
    "if peixe > permetido:\n",
    "    pagar = peixe - permetido\n",
    "    pagar = pagar + taxa\n",
    "    print('Voce tera que pagar uma multa de ',pagar)\n",
    "else:\n",
    "    print('Esta tudo certinho')"
   ]
  },
  {
   "cell_type": "markdown",
   "id": "0e5256e0",
   "metadata": {
    "id": "0e5256e0"
   },
   "source": [
    "#### 18. Faça um Programa para um caixa eletrônico. O programa deverá perguntar ao usuário a valor do saque e depois informar quantas notas de cada valor serão fornecidas. As notas disponíveis serão as de 1, 5, 10, 50 e 100 reais. O valor mínimo é de 10 reais e o máximo de 600 reais. O programa não deve se preocupar com a quantidade de notas existentes na máquina.\n",
    "<pre>\n",
    "Exemplo 1: Para sacar a quantia de 256 reais, o programa fornece duas notas de 100, uma nota de 50, uma nota de 5 e uma nota de 1;\n",
    "Exemplo 2: Para sacar a quantia de 399 reais, o programa fornece três notas de 100, uma nota de 50, quatro notas de 10, uma nota de 5 e quatro notas de 1.\n",
    "</pre>\n",
    "\n",
    "Dica1: numero // 10 vai te dar como resposta a parte inteira da divisão do número por 10.<br>\n",
    "Dica2: numero % 10 vai te dar o resto da divisão do número por 10."
   ]
  },
  {
   "cell_type": "code",
   "execution_count": null,
   "id": "9b4244c7",
   "metadata": {
    "id": "9b4244c7"
   },
   "outputs": [],
   "source": [
    "valor = int(input('Qual valor que deseja sacar: '))"
   ]
  },
  {
   "cell_type": "markdown",
   "id": "cba47494",
   "metadata": {
    "id": "cba47494"
   },
   "source": [
    "#### 19. Faça um programa que faça 5 perguntas para uma pessoa sobre um crime. As perguntas são:\n",
    "<pre>\n",
    "\"Telefonou para a vítima?\"\n",
    "\"Esteve no local do crime?\"\n",
    "\"Mora perto da vítima?\"\n",
    "\"Devia para a vítima?\"\n",
    "\"Já trabalhou com a vítima?\" \n",
    "O programa deve no final emitir uma classificação sobre a participação da pessoa no crime. Se a pessoa responder positivamente a 2 questões ela deve ser classificada como \"Suspeita\", entre 3 e 4 como \"Cúmplice\" e 5 como \"Assassino\". Caso contrário, ele será classificado como \"Inocente\".\n",
    "</pre>"
   ]
  },
  {
   "cell_type": "code",
   "execution_count": 67,
   "id": "5fdf9b88",
   "metadata": {
    "id": "5fdf9b88"
   },
   "outputs": [
    {
     "name": "stdout",
     "output_type": "stream",
     "text": [
      "Telefonou para a vítima? sim\n",
      "Esteve no local do crime? nao\n",
      "Mora perto da vítima? sim\n",
      "Devia para a vítima? sim\n",
      "Já trabalhou com a vítima? nao\n",
      "Cumplice\n"
     ]
    }
   ],
   "source": [
    "pergunta_1 = input('Telefonou para a vítima? ')\n",
    "pergunta_2 = input('Esteve no local do crime? ')\n",
    "pergunta_3 = input('Mora perto da vítima? ')\n",
    "pergunta_4 = input('Devia para a vítima? ')\n",
    "pergunta_5 = input('Já trabalhou com a vítima? ')\n",
    "count = 0\n",
    "\n",
    "if pergunta_1 == 'sim':\n",
    "    count = count + 1\n",
    "if pergunta_2 == 'sim':\n",
    "    count = count + 1\n",
    "if pergunta_3 == 'sim':\n",
    "    count = count + 1\n",
    "if pergunta_4 == 'sim':\n",
    "    count = count + 1\n",
    "if pergunta_5 == 'sim':\n",
    "    count = count + 1\n",
    "\n",
    "if count == 2:\n",
    "    print('suspeita')\n",
    "elif count == 3 or count == 4:\n",
    "    print('Cumplice')\n",
    "else:\n",
    "    print('Assassino')"
   ]
  },
  {
   "cell_type": "markdown",
   "id": "18901e98",
   "metadata": {
    "id": "18901e98"
   },
   "source": [
    "#### 20. Um posto está vendendo combustíveis com a seguinte tabela de descontos:\n",
    "<pre>\n",
    "Álcool:\n",
    "até 20 litros, desconto de 3% por litro\n",
    "acima de 20 litros, desconto de 5% por litro\n",
    "Gasolina:\n",
    "até 20 litros, desconto de 4% por litro\n",
    "acima de 20 litros, desconto de 6% por litro\n",
    "\n",
    "Escreva um algoritmo que leia o número de litros vendidos, o tipo de combustível (codificado da seguinte forma: A-álcool, G-gasolina), calcule e imprima o valor a ser pago pelo cliente sabendo-se que o preço do litro da gasolina é R$ 2,50 o preço do litro do álcool é R$ 1,90.\n",
    "</pre>"
   ]
  },
  {
   "cell_type": "code",
   "execution_count": null,
   "id": "a1fd8c38",
   "metadata": {
    "id": "a1fd8c38"
   },
   "outputs": [],
   "source": []
  },
  {
   "cell_type": "markdown",
   "id": "be0f8f32",
   "metadata": {
    "id": "be0f8f32"
   },
   "source": [
    "#### 21. Uma fruteira está vendendo frutas com a seguinte tabela de preços:\n",
    "<pre>\n",
    "                      Até 5 Kg           Acima de 5 Kg\n",
    "Morango         R$ 2,50 por Kg          R$ 2,20 por Kg\n",
    "Maçã            R$ 1,80 por Kg          R$ 1,50 por Kg\n",
    "Se o cliente comprar mais de 8 Kg em frutas ou o valor total da compra ultrapassar R$ 25,00, receberá ainda um desconto de 10% sobre este total. Escreva um algoritmo para ler a quantidade (em Kg) de morangos e a quantidade (em Kg) de maças adquiridas e escreva o valor a ser pago pelo cliente.\n",
    "</pre>"
   ]
  },
  {
   "cell_type": "code",
   "execution_count": 63,
   "id": "35c47c8e",
   "metadata": {
    "id": "35c47c8e"
   },
   "outputs": [
    {
     "name": "stdout",
     "output_type": "stream",
     "text": [
      "Quantos kg voce quer de morango? 8\n",
      "Quantos Kg voce quer de maça? 8\n",
      "17.6\n",
      "12.0\n",
      "26.64\n"
     ]
    }
   ],
   "source": [
    "morango = float(input('Quantos kg voce quer de morango? '))\n",
    "maca = float(input('Quantos Kg voce quer de maça? '))\n",
    "preco = 0\n",
    "preco_maca = 0\n",
    "preco_mor = 0\n",
    "\n",
    "\n",
    "if morango < 5:\n",
    "    preco = morango * 2.5 \n",
    "    preco_mor = preco\n",
    "    print(preco)\n",
    "else:\n",
    "    preco = morango * 2.2\n",
    "    preco_mor = preco\n",
    "    print(preco)\n",
    "    \n",
    "if maca < 5:\n",
    "    preco = maca * 1.80\n",
    "    preco_maca = preco\n",
    "    print(preco)\n",
    "else:\n",
    "    preco = maca * 1.50\n",
    "    preco_maca = preco\n",
    "    print(preco)\n",
    "    \n",
    "if morango + maca > 8 or preco_total > 25:\n",
    "    preco_total = preco_maca + preco_mor\n",
    "    preco_total = preco_total - (preco_total * 0.10)\n",
    "    print(preco_total)"
   ]
  },
  {
   "cell_type": "markdown",
   "id": "4dbd53ed",
   "metadata": {
    "id": "4dbd53ed"
   },
   "source": [
    "#### 22. O Hipermercado Tabajara está com uma promoção de carnes que é imperdível. Confira:\n",
    "<pre>\n",
    "                      Até 5 Kg           Acima de 5 Kg\n",
    "File Duplo      R$ 4,90 por Kg          R$ 5,80 por Kg\n",
    "Alcatra         R$ 5,90 por Kg          R$ 6,80 por Kg\n",
    "Picanha         R$ 6,90 por Kg          R$ 7,80 por Kg\n",
    "Para atender a todos os clientes, cada cliente poderá levar apenas um dos tipos de carne da promoção, porém não há limites para a quantidade de carne por cliente. Se compra for feita no cartão Tabajara o cliente receberá ainda um desconto de 5% sobre o total da compra. Escreva um programa que peça o tipo e a quantidade de carne comprada pelo usuário e gere um cupom fiscal, contendo as informações da compra: tipo e quantidade de carne, preço total, tipo de pagamento, valor do desconto e valor a pagar.\n",
    "</pre>"
   ]
  },
  {
   "cell_type": "code",
   "execution_count": null,
   "id": "15a77357",
   "metadata": {
    "id": "15a77357"
   },
   "outputs": [],
   "source": [
    "carne = input('Qual o tipo de carne vai querer: ')\n",
    "kg = float(input('QUantos Kgs de carne vai querer?')\n",
    "pagar = input('vai pagar pelo cartao da loja?')"
   ]
  },
  {
   "cell_type": "markdown",
   "id": "b949545b",
   "metadata": {
    "id": "b949545b"
   },
   "source": [
    "#### 23. Faça um Programa para uma loja de tintas. O programa deverá pedir o tamanho em metros quadrados da área a ser pintada. Considere que a cobertura da tinta é de 1 litro para cada 6 metros quadrados e que a tinta é vendida em latas de 18 litros, que custam R\\\\$ 80,00 ou em galões de 3,6 litros, que custam R\\\\$ 25,00."
   ]
  },
  {
   "cell_type": "code",
   "execution_count": 9,
   "id": "b11185b0",
   "metadata": {
    "id": "b11185b0"
   },
   "outputs": [
    {
     "name": "stdout",
     "output_type": "stream",
     "text": [
      "Informe o tamanho da área a ser pintada em m²: 300\n",
      "6.0\n",
      "80\n"
     ]
    }
   ],
   "source": [
    "area = float(input('Informe o tamanho da área a ser pintada em m²: '))\n",
    "cobertura = (area * 6) / area\n",
    "modulo = cobertura // 18\n",
    "\n",
    "if cobertura <= 3.6:\n",
    "    valor = 25\n",
    "    print(cobertura)\n",
    "    print(valor)\n",
    "elif cobertura <= 18:\n",
    "    valor = 80\n",
    "    print(cobertura)\n",
    "    print(valor)\n",
    "elif cobertura > 18:\n",
    "    valor = 80 * modulo\n",
    "    print(cobertura)\n",
    "    print(valor)"
   ]
  },
  {
   "cell_type": "markdown",
   "id": "b3d0598f",
   "metadata": {
    "id": "b3d0598f"
   },
   "source": [
    "##### Informe ao usuário as quantidades de tinta a serem compradas e os respectivos preços em 3 situações.\n",
    "\n",
    "Dica: lembre dos operadores // e % mostrados em exercícios anteriores<br>\n",
    "Dica1: numero // 10 vai te dar como resposta a parte inteira da divisão do número por 10.<br>\n",
    "Dica2: numero % 10 vai te dar o resto da divisão do número por 10.\n",
    "\n",
    "##### 1. Comprar apenas latas de 18 litros: (apenas latas inteiras)"
   ]
  },
  {
   "cell_type": "code",
   "execution_count": null,
   "id": "ed599d53",
   "metadata": {
    "id": "ed599d53"
   },
   "outputs": [],
   "source": []
  },
  {
   "cell_type": "markdown",
   "id": "ab03bc10",
   "metadata": {
    "id": "ab03bc10"
   },
   "source": [
    "##### 2. Comprar apenas galões de 3,6 litros: (apenas galoes inteiros)"
   ]
  },
  {
   "cell_type": "code",
   "execution_count": null,
   "id": "542f4a77",
   "metadata": {
    "id": "542f4a77"
   },
   "outputs": [],
   "source": []
  },
  {
   "cell_type": "markdown",
   "id": "8Jbw7RupH9Nc",
   "metadata": {
    "id": "8Jbw7RupH9Nc"
   },
   "source": [
    "##### 3. Misturar latas e galões, de forma que o desperdício de tinta seja menor. Acrescente 10% de folga e sempre arredonde os valores para cima, isto é, considere latas cheias."
   ]
  },
  {
   "cell_type": "markdown",
   "id": "93d4157b",
   "metadata": {
    "id": "93d4157b"
   },
   "source": [
    "O custo da lata é 80/18 = 4,44 R\\\\$/L\n",
    "\n",
    "O custo do galão é 25/3,6 = 6,94 R\\\\$/L\n",
    "\n",
    "A lata é mais econômica, então todas as latas inteiras que pudermos usar devemos comprar em latas. Se ficar faltando alguma coisa para completar devemos avaliar se é melhor comprar latas ou galões. Exemplo:\n",
    "\n",
    "Se queremos comprar 90 litros. 5 latas dão exatamente 90 litros. Então devemos comprar tudo em latas.\n",
    "\n",
    "Se queremos comprar 95 litros. 5 latas dão exatamente 90 litros. Então devemos comprar pelo menos 5 latas e avaliar o que falta, se estes últimos 5 litros valem mais apenas em latas ou galões.\n",
    "\n",
    "Para os 5 litros faltantes precisamos de 2 galões que custam 50 reais no total. Ou de uma lata que custa 80 reais no total. Portanto, neste caso vale mais a pena usar 2 galões.\n",
    "\n",
    "Se queremos comprar 107 litros. 5 latas dão exatamente 90 litros. Então devemos comprar pelo menos 5 latas e avaliar o que falta, se estes últimos 5 litros valem mais apenas em latas ou galões.\n",
    "\n",
    "Para os 17 litros faltantes precisamos de 5 galões que custam 125 reais no total. Ou de uma lata que custa 80 reais no total. Portanto, neste caso vale mais a pena usar uma lata.\n",
    "\n",
    "3 galões custam 75 reais, 4 galões custam 100 reais. Então, se for possível completar com até 3 galões escolhe-se galões. Qualquer quantidade maior que 3 galões, usa-se latas.\n",
    "\n",
    "Podemos ir ao exercício:"
   ]
  },
  {
   "cell_type": "code",
   "execution_count": null,
   "id": "01d104b6",
   "metadata": {
    "id": "01d104b6"
   },
   "outputs": [],
   "source": []
  }
 ],
 "metadata": {
  "colab": {
   "provenance": []
  },
  "kernelspec": {
   "display_name": "Python 3 (ipykernel)",
   "language": "python",
   "name": "python3"
  },
  "language_info": {
   "codemirror_mode": {
    "name": "ipython",
    "version": 3
   },
   "file_extension": ".py",
   "mimetype": "text/x-python",
   "name": "python",
   "nbconvert_exporter": "python",
   "pygments_lexer": "ipython3",
   "version": "3.9.12"
  }
 },
 "nbformat": 4,
 "nbformat_minor": 5
}
