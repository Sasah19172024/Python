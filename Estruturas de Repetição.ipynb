{
 "cells": [
  {
   "cell_type": "markdown",
   "id": "ac60394f",
   "metadata": {
    "id": "ac60394f"
   },
   "source": [
    "# Estruturas de repetição\n",
    "\n",
    "<span style=\"color: red;\"><b>Todos os exercícios são feitos partindo-se do pressuposto de que todas as entradas são dadas de forma correta. Casos limite não mencionados no enunciado não são abordados porque não fazem parte do exercício.</b></span>"
   ]
  },
  {
   "cell_type": "markdown",
   "id": "017affd0",
   "metadata": {
    "id": "017affd0"
   },
   "source": [
    "#### 1. Faça um programa que peça uma nota, entre zero e dez. Mostre uma mensagem caso o valor seja inválido e continue pedindo até que o usuário informe um valor válido."
   ]
  },
  {
   "cell_type": "code",
   "execution_count": 30,
   "id": "5f12870d",
   "metadata": {
    "id": "5f12870d"
   },
   "outputs": [
    {
     "name": "stdout",
     "output_type": "stream",
     "text": [
      "Digite uma nota: 77\n",
      "Digite corretamente\n",
      "Digite uma nota: 9\n",
      "perfeito\n"
     ]
    }
   ],
   "source": [
    "nota = int(input('Digite uma nota: '))\n",
    "\n",
    "while nota > 11:\n",
    "    print('Digite corretamente')\n",
    "    nota = input('Digite uma nota: ')\n",
    "    if int(nota) < 11 and int(nota) > 0:\n",
    "        break\n",
    "print('perfeito')\n",
    "    "
   ]
  },
  {
   "cell_type": "markdown",
   "id": "dd0c6d56",
   "metadata": {
    "id": "dd0c6d56"
   },
   "source": [
    "#### 2. Faça um programa que leia um nome de usuário e a sua senha e não aceite a senha igual ao nome do usuário, mostrando uma mensagem de erro e voltando a pedir as informações."
   ]
  },
  {
   "cell_type": "code",
   "execution_count": 33,
   "id": "f6579866",
   "metadata": {
    "id": "f6579866"
   },
   "outputs": [
    {
     "name": "stdout",
     "output_type": "stream",
     "text": [
      "Digite seu usuario: sasa\n",
      "Digite sua senha: sasa\n",
      "Digite uma senha diferente do usuario\n",
      "Digite seu usuario: sasa\n",
      "Digite sua senha: sasah\n",
      "pronto\n"
     ]
    }
   ],
   "source": [
    "usuario = input('Digite seu usuario: ')\n",
    "senha = input('Digite sua senha: ')\n",
    "\n",
    "while usuario == senha:\n",
    "    print('Digite uma senha diferente do usuario')\n",
    "    usuario = input('Digite seu usuario: ')\n",
    "    senha = input('Digite sua senha: ')\n",
    "print('pronto')"
   ]
  },
  {
   "cell_type": "markdown",
   "id": "ed113a82",
   "metadata": {
    "id": "ed113a82"
   },
   "source": [
    "#### 3. Faça um programa que leia e valide as seguintes informações (e para cada uma delas, continue pedindo a informação até o usuário inserir corretamente):\n",
    "##### Nome: maior que 3 caracteres;\n",
    "##### Idade: entre 0 e 150;\n",
    "##### Salário: maior que zero;\n",
    "##### Sexo: 'f' ou 'm';\n",
    "##### Estado Civil: 's', 'c', 'v', 'd';"
   ]
  },
  {
   "cell_type": "code",
   "execution_count": 35,
   "id": "3284f187",
   "metadata": {
    "id": "3284f187"
   },
   "outputs": [
    {
     "name": "stdout",
     "output_type": "stream",
     "text": [
      "Qual é seu nome; sarah\n",
      "Digite sua idade: 0\n",
      "Digite seu salario: 222\n",
      "Digite seu sexo [F/M]: F\n",
      "Digite seu estado civil [s/c/v/d]: s\n",
      "sarah,0,222.0,F,s\n"
     ]
    }
   ],
   "source": [
    "nome = input('Qual é seu nome; ')\n",
    "\n",
    "while len(nome) < 4:\n",
    "    print('Digite o nome corretamente')\n",
    "    nome = input('Qual é seu nome; ')\n",
    "    \n",
    "idade = int(input('Digite sua idade: '))\n",
    "\n",
    "while idade < 0 or idade > 180:\n",
    "    print('Digite a idadde corretamente: ')\n",
    "    idade = int(input('Digite sua idade: '))\n",
    "\n",
    "salario = float(input('Digite seu salario: '))\n",
    "\n",
    "while salario <= 0:\n",
    "    print('Digite corretamente seu salario: ')\n",
    "    salario = float(input('Digite seu salario: '))\n",
    "\n",
    "sexo = input('Digite seu sexo [F/M]: ')\n",
    "\n",
    "while not sexo in ['F', 'M'] :\n",
    "    print('Digite corretamente seu sexo')\n",
    "    sexo = input('Digite seu sexo [F/M]: ')\n",
    "\n",
    "est_civil = input('Digite seu estado civil [s/c/v/d]: ')\n",
    "    \n",
    "while not est_civil in ['s', 'c','v','d']:\n",
    "    print('Digite corretamente o estado civil: ')\n",
    "    est_civil = input('Digite seu estado civil [s/c/v/d]: ')\n",
    "\n",
    "print(f'{nome},{idade},{salario},{sexo},{est_civil}')"
   ]
  },
  {
   "cell_type": "raw",
   "id": "eff4662b",
   "metadata": {
    "id": "2f25dceb"
   },
   "source": [
    "4. Supondo que a população de um país A seja da ordem de 80000 habitantes com uma taxa anual de crescimento de 3% e que a população de B seja 200000 habitantes com uma taxa de crescimento de 1.5%. Faça um programa que calcule e escreva o número de anos necessários para que a população do país A ultrapasse ou iguale a população do país B, mantidas as taxas de crescimento."
   ]
  },
  {
   "cell_type": "code",
   "execution_count": 43,
   "id": "7ad0f5e9",
   "metadata": {
    "id": "7ad0f5e9"
   },
   "outputs": [
    {
     "name": "stdout",
     "output_type": "stream",
     "text": [
      "63\n"
     ]
    }
   ],
   "source": [
    "hab_a = 80000\n",
    "hab_b = 200000\n",
    "tot = 0\n",
    "\n",
    "while hab_a < hab_b:\n",
    "    hab_a = hab_a * 1.03\n",
    "    hab_b = hab_b * 1.015\n",
    "    tot += 1\n",
    "print(tot)"
   ]
  },
  {
   "cell_type": "markdown",
   "id": "e9626858",
   "metadata": {
    "id": "e9626858"
   },
   "source": [
    "#### 5. Altere o programa anterior permitindo ao usuário informar as populações e as taxas de crescimento iniciais. Valide a entrada e permita repetir a operação."
   ]
  },
  {
   "cell_type": "code",
   "execution_count": 52,
   "id": "c7e250a4",
   "metadata": {
    "id": "c7e250a4"
   },
   "outputs": [
    {
     "name": "stdout",
     "output_type": "stream",
     "text": [
      "Qual a populacao do pais A: 55000\n",
      "Qual a populacao do pais B: 66000\n",
      "Qual a taxa do pais A: 1.02\n",
      "Qual a taxa do pais B: 1.05\n",
      "35292\n"
     ]
    }
   ],
   "source": [
    "hab_a = int(input('Qual a populacao do pais A: '))\n",
    "hab_b = int(input('Qual a populacao do pais B: '))\n",
    "taxa_a = float(input('Qual a taxa do pais A: '))\n",
    "taxa_b = float(input('Qual a taxa do pais B: '))\n",
    "tot = 0\n",
    "\n",
    "while hab_a < hab_b:\n",
    "    hab_a = hab_a * taxa_a\n",
    "    hab_b = hab_b * taxa_b\n",
    "    tot += 1\n",
    "print(tot)"
   ]
  },
  {
   "cell_type": "markdown",
   "id": "b3d268b5",
   "metadata": {
    "id": "b3d268b5"
   },
   "source": [
    "#### 6. Faça um programa que peça para o usuário inserir o faturamento dos últimos 5 meses (individualmente) e informe o maior faturamento"
   ]
  },
  {
   "cell_type": "code",
   "execution_count": 34,
   "id": "8078e7a5",
   "metadata": {
    "id": "8078e7a5"
   },
   "outputs": [
    {
     "name": "stdout",
     "output_type": "stream",
     "text": [
      "Qual o faturamento: 55\n",
      "Qual o faturamento: 44\n",
      "Qual o faturamento: 88\n",
      "Qual o faturamento: 4\n",
      "Qual o faturamento: 22\n",
      "O maior faturamento foi de 88\n"
     ]
    }
   ],
   "source": [
    "c = 1\n",
    "fatu = []\n",
    "while c < 6:\n",
    "    faturamento = int(input('Qual o faturamento: '))\n",
    "    fatu.append(faturamento)\n",
    "    c += 1\n",
    "print('O maior faturamento foi de {}'.format(max(fatu)))\n"
   ]
  },
  {
   "cell_type": "markdown",
   "id": "6407824c",
   "metadata": {
    "id": "6407824c"
   },
   "source": [
    "#### 7. Faça um programa que peça para o usuário inserir o faturamento dos últimos 5 meses (individualmente) e informe o faturamento total (soma) e o faturamento médio por mês (média)."
   ]
  },
  {
   "cell_type": "code",
   "execution_count": 36,
   "id": "a02320d1",
   "metadata": {
    "id": "a02320d1"
   },
   "outputs": [
    {
     "name": "stdout",
     "output_type": "stream",
     "text": [
      "Informe o faturamento: 44\n",
      "Informe o faturamento: 66\n",
      "Informe o faturamento: 78\n",
      "Informe o faturamento: 24\n",
      "Informe o faturamento: 5\n",
      "O faturamento total foi de 217 e o faturamento medio foi de 43.4\n"
     ]
    }
   ],
   "source": [
    "c = 1\n",
    "fatu = []\n",
    "\n",
    "while c < 6:\n",
    "    faturamento = int(input('Informe o faturamento: '))\n",
    "    fatu.append(faturamento)\n",
    "    c += 1\n",
    "print('O faturamento total foi de {} e o faturamento medio foi de {}'.format(sum(fatu), sum(fatu) / len(fatu)))"
   ]
  },
  {
   "cell_type": "markdown",
   "id": "703f3c4d",
   "metadata": {
    "id": "703f3c4d"
   },
   "source": [
    "#### 8. Faça um programa que consiga categorizar a idade das equipes de uma empresa. Faça um programa que peça para n pessoas a sua idade, ao final o programa devera verificar se a média de idade da equipe varia entre 0 e 25 (jovem) ,26 e 60 (sênior) e maior que 60 (idosa); e então, dizer se a equipe é jovem, sênior ou idosa, conforme a média calculada."
   ]
  },
  {
   "cell_type": "code",
   "execution_count": 51,
   "id": "b56a85de",
   "metadata": {
    "id": "b56a85de"
   },
   "outputs": [
    {
     "name": "stdout",
     "output_type": "stream",
     "text": [
      "Quantos funcionarios: 5\n",
      "Qual é sua idade? 22\n",
      "Qual é sua idade? 10\n",
      "Qual é sua idade? 60\n",
      "Qual é sua idade? 40\n",
      "Qual é sua idade? 23\n",
      "A equipe é de senior com a media de 31.0 anos\n"
     ]
    }
   ],
   "source": [
    "n = int(input('Quantos funcionarios: '))\n",
    "ida = []\n",
    "for i in range(n):\n",
    "    idade = int(input('Qual é sua idade? '))\n",
    "    ida.append(idade)\n",
    "total = sum(ida) / n \n",
    "if total > 0 and total <= 25:\n",
    "    print('A equipe é de jovens com a media de {} anos'.format(total))\n",
    "elif total > 25 and total <= 60:\n",
    "    print('A equipe é de senior com a media de {} anos'.format(total))\n",
    "else:\n",
    "    print('A equipe é de idosos com a media de {} anos'.format(total))\n"
   ]
  },
  {
   "cell_type": "markdown",
   "id": "aad21b98",
   "metadata": {
    "id": "aad21b98"
   },
   "source": [
    "#### 9. Numa eleição existem três candidatos. Faça um programa que peça o número total de eleitores. Peça para cada eleitor votar e ao final mostrar o número de votos de cada candidato."
   ]
  },
  {
   "cell_type": "code",
   "execution_count": 44,
   "id": "84aa7a93",
   "metadata": {
    "id": "84aa7a93"
   },
   "outputs": [
    {
     "name": "stdout",
     "output_type": "stream",
     "text": [
      "Digite o numero de eleitores: 4\n",
      "Digite o numero do candidato: 1\n",
      "Digite o numero do candidato: 2\n",
      "Digite o numero do candidato: 2\n",
      "Digite o numero do candidato: 1\n",
      "O primeiro candidato teve 2 votos\n",
      "O segundo candidato teve 2 votos\n",
      "O terceiro candidato teve 0 votos\n"
     ]
    }
   ],
   "source": [
    "eleitores = int(input('Digite o numero de eleitores: '))\n",
    "c = 1\n",
    "cand1 = []\n",
    "cand2 = []\n",
    "cand3 = []\n",
    "while c <= eleitores:\n",
    "    candidato = int(input('Digite o numero do candidato: '))\n",
    "    c += 1\n",
    "    if candidato == 1:\n",
    "        cand1.append('1')\n",
    "    elif candidato == 2:\n",
    "        cand2.append('1')\n",
    "    else:\n",
    "        cand3.append('1')\n",
    "print('O primeiro candidato teve {} votos'.format(len(cand1)))\n",
    "print('O segundo candidato teve {} votos'.format(len(cand2)))\n",
    "print('O terceiro candidato teve {} votos'.format(len(cand3)))"
   ]
  },
  {
   "cell_type": "markdown",
   "id": "6e306453",
   "metadata": {
    "id": "6e306453"
   },
   "source": [
    "#### 10. Faça um programa que calcule o valor total investido por um colecionador em sua coleção de CDs e o valor médio gasto em cada um deles. O usuário deverá informar a quantidade de CDs e o valor para em cada um."
   ]
  },
  {
   "cell_type": "code",
   "execution_count": 5,
   "id": "6b7fa4a2",
   "metadata": {
    "id": "6b7fa4a2"
   },
   "outputs": [
    {
     "name": "stdout",
     "output_type": "stream",
     "text": [
      "Quantos cds vendeu? 5\n",
      "quanto foi :66\n",
      "quanto foi :55\n",
      "quanto foi :7\n",
      "quanto foi :22\n",
      "quanto foi :4\n",
      "O valor total com os cds foi de 154 e o valor medio deles é de 30.8\n"
     ]
    }
   ],
   "source": [
    "cd = int(input('Quantos cds vendeu? '))\n",
    "c = 0\n",
    "valores = []\n",
    "\n",
    "while c < cd:\n",
    "    valor = int(input('quanto foi :'))\n",
    "    valores.append(valor)\n",
    "    c += 1\n",
    "print('O valor total com os cds foi de {} e o valor medio deles é de {}'.format(sum(valores), sum(valores) / len(valores)))\n",
    "    "
   ]
  },
  {
   "cell_type": "markdown",
   "id": "f19c8d86",
   "metadata": {
    "id": "f19c8d86"
   },
   "source": [
    "#### 11. O Sr. Manoel Joaquim possui uma grande loja de artigos de R\\\\$ 1,99, com cerca de 10 caixas. Para agilizar o cálculo de quanto cada cliente deve pagar ele desenvolveu um tabela que contém o número de itens que o cliente comprou e ao lado o valor da conta. Desta forma a atendente do caixa precisa apenas contar quantos itens o cliente está levando e olhar na tabela de preços. Você foi contratado para desenvolver o programa que monta esta tabela de preços, que conterá os preços de 1 até 50 produtos, conforme o exemplo abaixo:\n",
    "<pre>\n",
    "Lojas Quase Dois - Tabela de preços\n",
    "1 - R$ 1.99\n",
    "2 - R$ 3.98\n",
    "...\n",
    "50 - R$ 99.50\n",
    "</pre>"
   ]
  },
  {
   "cell_type": "code",
   "execution_count": 15,
   "id": "4fc4d54d",
   "metadata": {
    "id": "4fc4d54d"
   },
   "outputs": [
    {
     "name": "stdout",
     "output_type": "stream",
     "text": [
      "Quantos produtos foram vendidos: 5\n",
      "1 - RS$1.99\n",
      "2 - RS$3.98\n",
      "3 - RS$5.97\n",
      "4 - RS$7.96\n",
      "5 - RS$9.95\n"
     ]
    }
   ],
   "source": [
    "vendidos = int(input('Quantos produtos foram vendidos: '))\n",
    "qnt = 1\n",
    "while qnt <= vendidos:\n",
    "    print(f'{qnt} - RS${qnt * 1.99}')\n",
    "    qnt += 1"
   ]
  },
  {
   "cell_type": "markdown",
   "id": "6cd19c52",
   "metadata": {
    "id": "6cd19c52"
   },
   "source": [
    "#### 12. Um funcionário de uma empresa recebe aumento salarial anualmente: Sabe-se que:\n",
    "<pre>\n",
    "Esse funcionário foi contratado em 1995, com salário inicial de R$ 1.000,00;\n",
    "Em 1996 recebeu aumento de 1,5% sobre seu salário inicial;\n",
    "A partir de 1997 (inclusive), os aumentos salariais sempre correspondem ao dobro do percentual do ano anterior. Faça um programa que determine o salário desse funcionário em 2003. \n",
    "</pre>"
   ]
  },
  {
   "cell_type": "code",
   "execution_count": null,
   "id": "98a4811b",
   "metadata": {
    "id": "98a4811b"
   },
   "outputs": [],
   "source": []
  },
  {
   "cell_type": "markdown",
   "id": "227928d1",
   "metadata": {
    "id": "227928d1"
   },
   "source": [
    "#### 13. O cardápio de uma lanchonete é o seguinte:\n",
    "<pre>\n",
    "Especificação   Código  Preço\n",
    "Cachorro Quente 100     R$ 1,20\n",
    "Bauru Simples   101     R$ 1,30\n",
    "Bauru com ovo   102     R$ 1,50\n",
    "Hambúrguer      103     R$ 1,20\n",
    "Cheeseburguer   104     R$ 1,30\n",
    "Refrigerante    105     R$ 1,00\n",
    "Faça um programa que leia o código dos itens pedidos e as quantidades desejadas. Calcule e mostre o valor a ser pago por item (preço * quantidade) e o total geral do pedido. Considere que o cliente deve informar quando o pedido deve ser encerrado.\n",
    "</pre>"
   ]
  },
  {
   "cell_type": "code",
   "execution_count": 27,
   "id": "8a784b86",
   "metadata": {
    "id": "8a784b86"
   },
   "outputs": [
    {
     "name": "stdout",
     "output_type": "stream",
     "text": [
      "digite o codigo do produto: 104\n",
      "quantos vai querer: 4\n",
      "o total é de 5.2\n"
     ]
    }
   ],
   "source": [
    "codigo = int(input('digite o codigo do produto: '))\n",
    "qnt = int(input('quantos vai querer: '))\n",
    "\n",
    "valor = 0\n",
    "while codigo:\n",
    "    if codigo == 100:\n",
    "        valor = 1.20\n",
    "        print('o total é de {}'.format(valor *qnt))\n",
    "        break\n",
    "    if codigo == 101:\n",
    "        valor = 1.30\n",
    "        print('o total é de {}'.format(valor *qnt))\n",
    "        break\n",
    "    if codigo == 102:\n",
    "        valor = 1.50\n",
    "        print('o total é de {}'.format(valor *qnt))\n",
    "        break\n",
    "    if codigo == 103:\n",
    "        valor = 1.20\n",
    "        print('o total é de {}'.format(valor *qnt))\n",
    "        break\n",
    "    if codigo == 104:\n",
    "        valor = 1.30\n",
    "        print('o total é de {}'.format(valor *qnt))\n",
    "        break\n",
    "    if codigo == 105:\n",
    "        valor = 1.00\n",
    "        print('o total é de {}'.format(valor *qnt))\n",
    "        break"
   ]
  },
  {
   "cell_type": "markdown",
   "id": "9877b8ba",
   "metadata": {
    "id": "9877b8ba"
   },
   "source": [
    "#### 14. Uma grande emissora de televisão quer fazer uma enquete entre os seus telespectadores para saber qual o melhor jogador após cada jogo. Para isto, faz-se necessário o desenvolvimento de um programa, que será utilizado pelas telefonistas, para a computação dos votos. Sua equipe foi contratada para desenvolver este programa, utilizando a linguagem de programação Python. Para computar cada voto, a telefonista digitará um número, entre 1 e 23, correspondente ao número da camisa do jogador. Um número de jogador igual zero, indica que a votação foi encerrada. Se um número inválido for digitado, o programa deve ignorá-lo, mostrando uma breve mensagem de aviso, e voltando a pedir outro número. Após o final da votação, o programa deverá exibir:\n",
    "<pre>a. O total de votos computados;\n",
    "b. Os números e respectivos votos de todos os jogadores que receberam votos;\n",
    "c. O percentual de votos de cada um destes jogadores;\n",
    "d. O número do jogador escolhido como o melhor jogador da partida, juntamente com o número de votos e o percentual de votos dados a ele.\n",
    "        Observe que os votos inválidos e o zero final não devem ser computados como votos. O resultado aparece ordenado pelo número do jogador. O programa deve fazer uso de arrays. O programa deverá executar o cálculo do percentual de cada jogador através de uma função. Esta função receberá dois parâmetros: o número de votos de um jogador e o total de votos. A função calculará o percentual e retornará o valor calculado. Abaixo segue uma tela de exemplo. O disposição das informações deve ser o mais próxima possível ao exemplo. Os dados são fictícios e podem mudar a cada execução do programa. Ao final, o programa deve ainda gravar os dados referentes ao resultado da votação em um arquivo texto no disco, obedecendo a mesma disposição apresentada na tela.</pre>\n",
    "```\n",
    "Enquete: Quem foi o melhor jogador?\n",
    "\n",
    "Número do jogador (0=fim): 9\n",
    "Número do jogador (0=fim): 10\n",
    "Número do jogador (0=fim): 9\n",
    "Número do jogador (0=fim): 10\n",
    "Número do jogador (0=fim): 11\n",
    "Número do jogador (0=fim): 10\n",
    "Número do jogador (0=fim): 50\n",
    "Informe um valor entre 1 e 23 ou 0 para sair!\n",
    "Número do jogador (0=fim): 9\n",
    "Número do jogador (0=fim): 9\n",
    "Número do jogador (0=fim): 0\n",
    "\n",
    "Resultado da votação:\n",
    "\n",
    "Foram computados 8 votos.\n",
    "\n",
    "Jogador Votos           %\n",
    "9               4               50,0%\n",
    "10              3               37,5%\n",
    "11              1               12,5%\n",
    "``` "
   ]
  },
  {
   "cell_type": "code",
   "execution_count": null,
   "id": "79b82364",
   "metadata": {
    "id": "79b82364"
   },
   "outputs": [],
   "source": []
  }
 ],
 "metadata": {
  "colab": {
   "collapsed_sections": [],
   "provenance": []
  },
  "kernelspec": {
   "display_name": "Python 3 (ipykernel)",
   "language": "python",
   "name": "python3"
  },
  "language_info": {
   "codemirror_mode": {
    "name": "ipython",
    "version": 3
   },
   "file_extension": ".py",
   "mimetype": "text/x-python",
   "name": "python",
   "nbconvert_exporter": "python",
   "pygments_lexer": "ipython3",
   "version": "3.9.12"
  }
 },
 "nbformat": 4,
 "nbformat_minor": 5
}
