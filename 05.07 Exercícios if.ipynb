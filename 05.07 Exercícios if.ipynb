{
 "cells": [
  {
   "cell_type": "markdown",
   "metadata": {},
   "source": [
    "# Exercícios"
   ]
  },
  {
   "cell_type": "markdown",
   "metadata": {},
   "source": [
    "## 1. Criando um mini sistema de controle de estoque\n",
    "\n",
    "- Crie um sistema para ser usado pelo time de controle de estoque de um centro de distribuição.\n",
    "- Imagine que ao fim de todo dia, o time conta quantas unidades de produto existem no estoque. Se tivermos um estoque abaixo do estoque permitido para aquela categoria do produto, o time deve ser avisado (print) para fazer um novo pedido daquele produto.\n",
    "- Cada categoria de produto tem um estoque mínimo diferente, segundo a regra abaixo:\n",
    "\n",
    "- alimentos -> Estoque mínimo: 50\n",
    "- bebidas -> Estoque mínimo: 75\n",
    "- limpeza -> Estoque mínimo: 30\n",
    "\n",
    "Para isso vamos criar um programa que pede 3 inputs do usuário: nome do produto, categoria e quantidade atual em estoque.\n",
    "\n",
    "Se o produto tiver abaixo do estoque mínimo da categoria dele, o programa deve printar a mensagem \"Solicitar {produto} à equipe de compras, temos apenas {unidades} em estoque\"\n",
    "\n",
    "Exemplo: Se o usuário preenche os inputs com: bebidas, dolly, 90, o programa não deve exibir nenhuma mensagem.<br>\n",
    "Agora, se o usuário preenche os inputs com: bebidas, guaraná, 60, o programa deve exibir a mensagem \"Solicitar guaraná à equipe de compras, temos apenas 60 unidades em estoque.\n",
    "\n",
    "Obs: lembre de usar o int() para transformar o número inserido pelo usuário no input de string para int.<br>\n",
    "Obs2: Caso o usuário não preencha alguma das 3 informações, o programa deve exibir uma mensagem para avisá-lo de preencher corretamente."
   ]
  },
  {
   "cell_type": "code",
   "execution_count": 11,
   "metadata": {},
   "outputs": [
    {
     "name": "stdout",
     "output_type": "stream",
     "text": [
      "Qual o produto? guarana\n",
      "Qual a categoria do produto? a\n",
      "Qual a quantidade atual do produto? 55\n",
      "nao existe essa categoria\n"
     ]
    }
   ],
   "source": [
    "#outra forma\n",
    "\n",
    "produto = input('Qual o produto? ')\n",
    "categoria = input('Qual a categoria do produto? ')\n",
    "qnde = input('Qual a quantidade atual do produto? ')\n",
    "\n",
    "if produto and categoria and qnde:\n",
    "    qnde = int(qnde)\n",
    "    if categoria == 'bebidas':\n",
    "        if qnde < 75:\n",
    "            print(f'Solicitar {produto} à equipe de compras, temos apenas {qnde} em estoque')\n",
    "    elif categoria == 'limpeza':\n",
    "        if qnde < 30:\n",
    "            print(f'Solicitar {produto} à equipe de compras, temos apenas {qnde} em estoque')\n",
    "    elif categoria == 'alimento':\n",
    "        if qnde < 50:\n",
    "            print(f'Solicitar {produto} à equipe de compras, temos apenas {qnde} em estoque')\n",
    "    else:\n",
    "        print('nao existe essa categoria')\n",
    "else:\n",
    "    print('Preencha todas as informações')"
   ]
  },
  {
   "cell_type": "code",
   "execution_count": null,
   "metadata": {},
   "outputs": [],
   "source": [
    "#seu código aqui\n",
    "#estoque ideal\n",
    "alimentos = 50\n",
    "bebidas = 75\n",
    "limpeza = 30\n",
    "\n",
    "dia_alime = int(input('Quantos alimentos tem: '))\n",
    "dia_bebi = int(input('Quantas bebidas tem: '))\n",
    "dia_limp = int(input('Quantos alimentos tem: '))\n",
    "\n",
    "if dia_alime == '' or dia_bebi == '' or dia_limp == '':\n",
    "    print('Preencha corretamente os espaços')\n",
    "else: pass\n",
    "\n",
    "if dia_alime < 50:\n",
    "    print(f'Solicitar alimento à equipe de compras, temos apenas {dia_alime} em estoque')\n",
    "elif dia_bebi < 75:\n",
    "    print(f'Solicitar bebida à equipe de compras, temos apenas {dia_bebi} em estoque')\n",
    "elif limpeza < 30:\n",
    "    print(f'Solicitar produto de limpeza à equipe de compras, temos apenas {dia_limp} em estoque')\n",
    "else:\n",
    "    print('Esta tudo certo para o dia seguinte')"
   ]
  }
 ],
 "metadata": {
  "kernelspec": {
   "display_name": "Python 3 (ipykernel)",
   "language": "python",
   "name": "python3"
  },
  "language_info": {
   "codemirror_mode": {
    "name": "ipython",
    "version": 3
   },
   "file_extension": ".py",
   "mimetype": "text/x-python",
   "name": "python",
   "nbconvert_exporter": "python",
   "pygments_lexer": "ipython3",
   "version": "3.9.12"
  }
 },
 "nbformat": 4,
 "nbformat_minor": 4
}
