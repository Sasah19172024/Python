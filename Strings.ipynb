{
 "cells": [
  {
   "cell_type": "markdown",
   "id": "2b04bbea",
   "metadata": {},
   "source": [
    "# Strings\n",
    "\n",
    "<span style=\"color: red;\"><b>Todos os exercícios são feitos partindo-se do pressuposto de que todas as entradas são dadas de forma correta. Casos limite não mencionados no enunciado não são abordados porque não fazem parte do exercício.</b></span>"
   ]
  },
  {
   "cell_type": "markdown",
   "id": "5b1f33b9",
   "metadata": {},
   "source": [
    "#### 1. Tamanho de strings. Faça um programa que leia 2 strings e informe o conteúdo delas seguido do seu comprimento. Informe também se as duas strings possuem o mesmo comprimento e são iguais ou diferentes no conteúdo.\n",
    "<pre>\n",
    "Compara duas strings\n",
    "String 1: Brasil Hexa 2006\n",
    "String 2: Brasil! Hexa 2006!\n",
    "Tamanho de \"Brasil Hexa 2006\": 16 caracteres\n",
    "Tamanho de \"Brasil! Hexa 2006!\": 18 caracteres\n",
    "As duas strings são de tamanhos diferentes.\n",
    "As duas strings possuem conteúdo diferente.\n",
    "</pre>"
   ]
  },
  {
   "cell_type": "code",
   "execution_count": 2,
   "id": "c492b657",
   "metadata": {},
   "outputs": [
    {
     "name": "stdout",
     "output_type": "stream",
     "text": [
      "Digite uma frase: sou linda\n",
      "Digite uma frase: Sou linda\n",
      "Tamanho de \"sou linda\" : 9 caracteres\n",
      "Tamanho de \"Sou linda\" : 9 caracteres\n",
      "As duas tem o mesmo tamanho\n",
      "As duas nao sao iguais\n"
     ]
    }
   ],
   "source": [
    "str1 = input('Digite uma frase: ')\n",
    "str2 = input('Digite uma frase: ')\n",
    "tam_1 = len(str1)\n",
    "tam_2 = len(str2)\n",
    "\n",
    "print('Tamanho de \"{}\" : {} caracteres'.format(str1, tam_1))\n",
    "print('Tamanho de \"{}\" : {} caracteres'.format(str2, tam_2))\n",
    "\n",
    "if tam_1 == tam_2:\n",
    "    print('As duas tem o mesmo tamanho')\n",
    "else:\n",
    "    print('As duas tem tamanhos diferentes')\n",
    "\n",
    "if str1 == str2:\n",
    "    print('As duas sao iguais')\n",
    "else:\n",
    "    print('As duas nao sao iguais')"
   ]
  },
  {
   "cell_type": "markdown",
   "id": "c3068a53",
   "metadata": {},
   "source": [
    "#### 2. Valida e corrige número de telefone. Faça um programa que leia um número de telefone, e corrija o número no caso deste conter somente 7 dígitos, acrescentando o '3' na frente. O usuário pode informar o número com ou sem o traço separador.\n",
    "<pre>\n",
    "Valida e corrige número de telefone\n",
    "Telefone: 461-0133\n",
    "Telefone possui 7 dígitos. Vou acrescentar o digito três na frente.\n",
    "Telefone corrigido sem formatação: 34610133\n",
    "Telefone corrigido com formatação: 3461-0133\n",
    "</pre>"
   ]
  },
  {
   "cell_type": "code",
   "execution_count": 3,
   "id": "0308566d",
   "metadata": {},
   "outputs": [
    {
     "name": "stdout",
     "output_type": "stream",
     "text": [
      "Digite seu numero de celular: 1414141\n",
      "Telefone: 1414141\n",
      "Telefone possui 7 dígitos. Vou acrescentar o digito três na frente.\n",
      "Telefone corrigido sem formatação: 31414141\n",
      "Telefone corrigido com formatação: 3141-4141\n"
     ]
    }
   ],
   "source": [
    "num = str(input('Digite seu numero de celular: '))\n",
    "\n",
    "if len(num) == 7:\n",
    "    print('Telefone: {}'.format(num))\n",
    "    print('Telefone possui 7 dígitos. Vou acrescentar o digito três na frente.')\n",
    "    novo_num = '3' + num\n",
    "    print('Telefone corrigido sem formatação: {}'.format(novo_num))\n",
    "    print('Telefone corrigido com formatação: {}{}{}'.format(novo_num[:4], '-', novo_num[4:]))\n",
    "else:\n",
    "    print('numero correto')\n"
   ]
  }
 ],
 "metadata": {
  "kernelspec": {
   "display_name": "Python 3 (ipykernel)",
   "language": "python",
   "name": "python3"
  },
  "language_info": {
   "codemirror_mode": {
    "name": "ipython",
    "version": 3
   },
   "file_extension": ".py",
   "mimetype": "text/x-python",
   "name": "python",
   "nbconvert_exporter": "python",
   "pygments_lexer": "ipython3",
   "version": "3.9.12"
  }
 },
 "nbformat": 4,
 "nbformat_minor": 5
}
