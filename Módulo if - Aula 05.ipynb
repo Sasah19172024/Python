{
 "cells": [
  {
   "cell_type": "markdown",
   "metadata": {},
   "source": [
    "# Casos com várias condições/comparações\n",
    "\n",
    "### Estrutura:\n",
    "\n",
    "Quando temos várias comparações, ao invés de criar if dentro de if podemos usar os operadores \"and\" e \"or\" para tratar essas condições.\n",
    "\n",
    "Funciona assim:"
   ]
  },
  {
   "cell_type": "raw",
   "metadata": {},
   "source": [
    "if condicao_1 and condicao_2:\n",
    "    vai ser executado se as 2 condições forem verdadeiras ao mesmo tempo\n",
    "\n",
    "outro caso:\n",
    "\n",
    "if condicao_1 or condicao_2:\n",
    "    vai ser executado se pelo menos uma das condições forem verdadeiras"
   ]
  },
  {
   "cell_type": "markdown",
   "metadata": {},
   "source": [
    "### Exemplo\n",
    "\n",
    "Vamos voltar ao exemplo de cálculo de meta de vendas dos funcionários. Muitas empresas atribuem bonificação do salário dos funcionários de acordo com o resultado do funcionário e também com o resultado da empresa como um todo.\n",
    "\n",
    "Nesse caso, a regra funciona da seguinte forma:\n",
    "- Se o funcionário vendeu mais do que a meta de vendas e a loja bateu a meta de vendas da loja, o funcionário ganha 3% do que ele vendeu em forma de bônus.\n",
    "- Caso o funcionário tenha batido a meta de vendas individual dele, mas a loja não tenha batido a meta de vendas da loja como um todo, o funcionário não ganha bônus."
   ]
  },
  {
   "cell_type": "code",
   "execution_count": 12,
   "metadata": {},
   "outputs": [
    {
     "name": "stdout",
     "output_type": "stream",
     "text": [
      "Voce nao recebera bonus, pois oq vendeu foi 15000 reais e a empresa bateu a meta tambem com 25000 reais\n"
     ]
    }
   ],
   "source": [
    "meta_dele = 15000\n",
    "vendeu = 15000\n",
    "bonus = 0.03 * vendeu\n",
    "meta_loja = 25000\n",
    "vendas_loja = 20000 + vendeu\n",
    "    \n",
    "if vendeu > meta_dele and vendeu >= meta_loja:\n",
    "    print('voce recebera o bonus de 3%, ficando um um salario de {} reais'.format(bonus + vendeu))\n",
    "elif vendeu >= meta_dele and vendeu < meta_loja:\n",
    "    print('Voce nao recebera bonus, pois oq vendeu foi {} reais e a empresa bateu a meta tambem com {} reais'.format(vendeu, meta_loja))\n",
    "else:\n",
    "    print('Voce nao recebera o bonus pois oq vendeu foi {} reais e sua meta pessoal era de {} reais'.format(vendeu, meta_dele))"
   ]
  },
  {
   "cell_type": "markdown",
   "metadata": {},
   "source": [
    "### Outro exemplo\n",
    "\n",
    "Agora vamos levar essa análise mais a fundo.\n",
    "\n",
    "Nessa empresa, existe um outro caso também que garante que o funcionário ganhe um bônus, independente das vendas que ele fez naquele mês.\n",
    "\n",
    "Todo mês os diretores da empresa fazem uma avaliação qualitativa de todos os funcionários. Nessa avaliação os diretores dão uma nota de 0 a 10 para cada funcionário. Se a nota do funcionário for 9 ou 10, ele também ganha o bônus de 3% do valor de vendas. (os bônus não são cumulativos)"
   ]
  },
  {
   "cell_type": "code",
   "execution_count": 17,
   "metadata": {},
   "outputs": [
    {
     "name": "stdout",
     "output_type": "stream",
     "text": [
      "Funcionario ganhou bonus\n"
     ]
    }
   ],
   "source": [
    "nota_funcionario = 9\n",
    "meta_nota = 9\n",
    "\n",
    "if nota_funcionario >= meta_nota or (vendeu > meta_dele and vendas_loja > meta_loja):\n",
    "    print('Funcionario ganhou bonus')\n",
    "else:\n",
    "    print('Funcionario nao ganhou bonus')"
   ]
  },
  {
   "cell_type": "code",
   "execution_count": 7,
   "metadata": {},
   "outputs": [
    {
     "name": "stdout",
     "output_type": "stream",
     "text": [
      "Voce reccebera bonus somente quando bater a meta\n"
     ]
    }
   ],
   "source": [
    "nota_funcionario = 7\n",
    "vendas = 10000\n",
    "\n",
    "if nota_funcionario == 9 or nota_funcionario == 10:\n",
    "    print('Voce é um funcionario nota 9 ou 10, entao ganhara um bonus ficando com um salario de {}'.format(bonus + vendas))\n",
    "else:\n",
    "    print('Voce reccebera bonus somente quando bater a meta')"
   ]
  }
 ],
 "metadata": {
  "kernelspec": {
   "display_name": "Python 3 (ipykernel)",
   "language": "python",
   "name": "python3"
  },
  "language_info": {
   "codemirror_mode": {
    "name": "ipython",
    "version": 3
   },
   "file_extension": ".py",
   "mimetype": "text/x-python",
   "name": "python",
   "nbconvert_exporter": "python",
   "pygments_lexer": "ipython3",
   "version": "3.9.12"
  }
 },
 "nbformat": 4,
 "nbformat_minor": 4
}
