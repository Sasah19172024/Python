{
 "cells": [
  {
   "cell_type": "markdown",
   "metadata": {},
   "source": [
    "# Exercícios\n",
    "\n",
    "São exercícios bem parecidos com os que fizemos com listas. Mas na tupla, podemos não só trabalhar com índices, mas fazer o \"unpacking\" das tuplas, o que pode facilitar nossos códigos.\n",
    "\n",
    "## 1. Análise de Vendas\n",
    "\n",
    "Nesse exercício vamos fazer uma \"análise simples\" de atingimento de Meta.\n",
    "\n",
    "Temos uma lista com os vendedores e os valores de vendas e queremos identificar (printar) quais os vendedores que bateram a meta e qual foi o valor que eles venderam."
   ]
  },
  {
   "cell_type": "code",
   "execution_count": 6,
   "metadata": {},
   "outputs": [
    {
     "name": "stdout",
     "output_type": "stream",
     "text": [
      "João vendedor bateu a meta com 15000 vendas\n",
      "Julia vendedor bateu a meta com 27000 vendas\n",
      "Ana vendedor bateu a meta com 10300 vendas\n"
     ]
    }
   ],
   "source": [
    "meta = 10000\n",
    "vendas = [\n",
    "    ('João', 15000),\n",
    "    ('Julia', 27000),\n",
    "    ('Marcus', 9900),\n",
    "    ('Maria', 3750),\n",
    "    ('Ana', 10300),\n",
    "    ('Alon', 7870),\n",
    "]\n",
    "\n",
    "for venda in vendas:\n",
    "    funcionario, vendido = venda\n",
    "    if vendido >= meta:\n",
    "        print(f'{funcionario} vendedor bateu a meta com {vendido} vendas')"
   ]
  },
  {
   "cell_type": "markdown",
   "metadata": {},
   "source": [
    "## 2. Comparação com Ano Anterior\n",
    "\n",
    "Digamos que você está analisando as vendas de produtos de um ecommerce e quer identificar quais produtos tiveram no ano de 2020 mais vendas do que no ano de 2019, para reportar isso para a diretoria.\n",
    "\n",
    "Sua resposta pode ser um print de cada produto, qual foi a venda de 2019, a venda de 2020 e o % de crescimento de 2020 para 2019.\n",
    "\n",
    "Lembrando, para calcular o % de crescimento de um produto de um ano para o outro, podemos fazer: (vendas_produto2020/vendas_produto2019 - 1)\n",
    "\n",
    "A lógica da tupla é: (produto, vendas2019, vendas2020)"
   ]
  },
  {
   "cell_type": "code",
   "execution_count": 12,
   "metadata": {},
   "outputs": [
    {
     "name": "stdout",
     "output_type": "stream",
     "text": [
      "O produto é iphone com vendas em 2019 de 558147 e vendas de 2020 de 951642, com um aumento de 70.5%\n",
      "O produto é tv com vendas em 2019 de 405252 e vendas de 2020 de 787604, com um aumento de 94.3%\n",
      "O produto é máquina de café com vendas em 2019 de 718654 e vendas de 2020 de 867660, com um aumento de 20.7%\n",
      "O produto é notebook dell com vendas em 2019 de 422760 e vendas de 2020 de 694913, com um aumento de 64.4%\n",
      "O produto é notebook hp com vendas em 2019 de 154753 e vendas de 2020 de 539704, com um aumento de 248.8%\n",
      "O produto é microsoft surface com vendas em 2019 de 438508 e vendas de 2020 de 667179, com um aumento de 52.1%\n",
      "O produto é webcam com vendas em 2019 de 237467 e vendas de 2020 de 295633, com um aumento de 24.5%\n",
      "O produto é caixa de som com vendas em 2019 de 489705 e vendas de 2020 de 725316, com um aumento de 48.1%\n",
      "O produto é microfone com vendas em 2019 de 328311 e vendas de 2020 de 644622, com um aumento de 96.3%\n",
      "O produto é câmera canon com vendas em 2019 de 591120 e vendas de 2020 de 994303, com um aumento de 68.2%\n"
     ]
    }
   ],
   "source": [
    "vendas_produtos = [('iphone', 558147, 951642), ('galaxy', 712350, 244295), ('ipad', 573823, 26964), ('tv', 405252, 787604), ('máquina de café', 718654, 867660), ('kindle', 531580, 78830), ('geladeira', 973139, 710331), ('adega', 892292, 646016), ('notebook dell', 422760, 694913), ('notebook hp', 154753, 539704), ('notebook asus', 887061, 324831), ('microsoft surface', 438508, 667179), ('webcam', 237467, 295633), ('caixa de som', 489705, 725316), ('microfone', 328311, 644622), ('câmera canon', 591120, 994303)]\n",
    "\n",
    "#seu código aqui\n",
    "\n",
    "for venda in vendas_produtos:\n",
    "    produto, vendas2019, vendas2020 = venda\n",
    "    if vendas2019 < vendas2020:\n",
    "        print('O produto é {} com vendas em 2019 de {} e vendas de 2020 de {}, com um aumento de {:.1%}'.format(produto, vendas2019, vendas2020, vendas2020/vendas2019 - 1))"
   ]
  }
 ],
 "metadata": {
  "kernelspec": {
   "display_name": "Python 3 (ipykernel)",
   "language": "python",
   "name": "python3"
  },
  "language_info": {
   "codemirror_mode": {
    "name": "ipython",
    "version": 3
   },
   "file_extension": ".py",
   "mimetype": "text/x-python",
   "name": "python",
   "nbconvert_exporter": "python",
   "pygments_lexer": "ipython3",
   "version": "3.9.12"
  }
 },
 "nbformat": 4,
 "nbformat_minor": 4
}
