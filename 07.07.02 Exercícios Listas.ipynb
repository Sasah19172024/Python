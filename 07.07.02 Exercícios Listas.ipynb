{
 "cells": [
  {
   "cell_type": "markdown",
   "metadata": {},
   "source": [
    "# Exercícios\n",
    "\n",
    "## 1. Faturamento do Melhor e do Pior Mês do Ano\n",
    "\n",
    "Qual foi o valor de vendas do melhor mês do Ano?\n",
    "E valor do pior mês do ano?"
   ]
  },
  {
   "cell_type": "code",
   "execution_count": 68,
   "metadata": {},
   "outputs": [
    {
     "name": "stdout",
     "output_type": "stream",
     "text": [
      "O maior valor de vendas do ano foi 49051 no mes de nov, e a menor venda do ano foi de 9650 no mes de dez\n"
     ]
    }
   ],
   "source": [
    "meses = ['jan', 'fev', 'mar', 'abr', 'mai', 'jun', 'jul', 'ago', 'set', 'out', 'nov', 'dez']\n",
    "vendas_1sem = [25000, 29000, 22200, 17750, 15870, 19900]\n",
    "vendas_2sem = [19850, 20120, 17540, 15555, 49051, 9650]\n",
    "\n",
    "vendas_tot = vendas_1sem + vendas_2sem\n",
    "maior = vendas_tot.index(max(vendas_tot))\n",
    "menor = vendas_tot.index(min(vendas_tot))\n",
    "\n",
    "print('O maior valor de vendas do ano foi {} no mes de {}, e a menor venda do ano foi de {} no mes de {}'.format(vendas_tot[maior], meses[maior], vendas_tot[menor], meses[menor]))"
   ]
  },
  {
   "cell_type": "markdown",
   "metadata": {},
   "source": [
    "## 2. Continuação\n",
    "\n",
    "Agora relacione as duas listas para printar 'O melhor mês do ano foi {} com {} vendas' e o mesmo para o pior mês do ano.\n",
    "\n",
    "Calcule também o faturamento total do Ano e quanto que o melhor mês representou do faturamento total.\n",
    "\n",
    "Obs: Para o faturamento total, pode usar a função sum(lista) que soma todos os itens de uma lista"
   ]
  },
  {
   "cell_type": "code",
   "execution_count": 69,
   "metadata": {},
   "outputs": [
    {
     "name": "stdout",
     "output_type": "stream",
     "text": [
      "O maior valor de vendas do ano foi 49051 no mes de nov, e a menor venda do ano foi de 9650 no mes de dez\n",
      "O faturamento toral da loja foi de 261486 e o melhor mes representou 18.8% do total\n"
     ]
    }
   ],
   "source": [
    "print('O maior valor de vendas do ano foi {} no mes de {}, e a menor venda do ano foi de {} no mes de {}'.format(vendas_tot[maior], meses[maior], vendas_tot[menor], meses[menor]))\n",
    "faturamento = sum(vendas_tot)\n",
    "percentual = vendas_tot[maior] / faturamento\n",
    "print('O faturamento toral da loja foi de {} e o melhor mes representou {:.1%} do total'.format(faturamento, percentual ))"
   ]
  },
  {
   "cell_type": "markdown",
   "metadata": {},
   "source": [
    "## 3. Crie uma lista com o top 3 valores de vendas do ano (sem fazer \"no olho\")\n",
    "\n",
    "Dica: o método remove retira um item da lista."
   ]
  },
  {
   "cell_type": "code",
   "execution_count": 78,
   "metadata": {},
   "outputs": [
    {
     "name": "stdout",
     "output_type": "stream",
     "text": [
      "[9650, 15555, 15870, 17540, 17750, 19850, 19900, 20120, 22200, 25000, 29000, 49051]\n",
      "[49051, 29000, 25000]\n"
     ]
    },
    {
     "data": {
      "text/plain": [
       "'top3 = []\\nfor i in vendas_tot:\\n    maior_valor = max(vendas_tot)\\n    top3.append(maior_valor)\\n    print(vendas_tot)\\n    print(top3)'"
      ]
     },
     "execution_count": 78,
     "metadata": {},
     "output_type": "execute_result"
    }
   ],
   "source": [
    "vendas_tot.sort() \n",
    "print(vendas_tot)\n",
    "top3 = [vendas_tot[-1], vendas_tot[-2], vendas_tot[-3]]\n",
    "print(top3)\n",
    "\n",
    "\"\"\" maior_valor = max(vendas_tot)\n",
    "    top3.append(maior_valor)\n",
    "    print(vendas_tot)\n",
    "    print(top3)\n",
    "\"\"\"\n",
    "\"\"\"top3 = []\n",
    "for i in vendas_tot:\n",
    "    maior_valor = max(vendas_tot)\n",
    "    top3.append(maior_valor)\n",
    "    print(vendas_tot)\n",
    "    print(top3)\"\"\"\n",
    "    "
   ]
  }
 ],
 "metadata": {
  "kernelspec": {
   "display_name": "Python 3 (ipykernel)",
   "language": "python",
   "name": "python3"
  },
  "language_info": {
   "codemirror_mode": {
    "name": "ipython",
    "version": 3
   },
   "file_extension": ".py",
   "mimetype": "text/x-python",
   "name": "python",
   "nbconvert_exporter": "python",
   "pygments_lexer": "ipython3",
   "version": "3.9.12"
  }
 },
 "nbformat": 4,
 "nbformat_minor": 4
}
