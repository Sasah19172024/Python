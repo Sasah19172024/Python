{
 "cells": [
  {
   "cell_type": "markdown",
   "id": "bb0f9514",
   "metadata": {
    "id": "bb0f9514"
   },
   "source": [
    "# Lista de Estrutura Sequencial"
   ]
  },
  {
   "cell_type": "markdown",
   "id": "4e7a8c30",
   "metadata": {
    "id": "4e7a8c30"
   },
   "source": [
    "#### 1. Faça um Programa que mostre a mensagem (print) \"Alo mundo\" na tela."
   ]
  },
  {
   "cell_type": "code",
   "execution_count": 1,
   "id": "883bfe85",
   "metadata": {
    "id": "883bfe85"
   },
   "outputs": [
    {
     "name": "stdout",
     "output_type": "stream",
     "text": [
      "Olá, mundo!\n"
     ]
    }
   ],
   "source": [
    "print('Olá, mundo!')"
   ]
  },
  {
   "cell_type": "markdown",
   "id": "71d6d6a2",
   "metadata": {
    "id": "71d6d6a2"
   },
   "source": [
    "#### 2. Faça um Programa que peça um número (input) e então mostre a mensagem: \"O número informado foi [número].\""
   ]
  },
  {
   "cell_type": "code",
   "execution_count": 6,
   "id": "30cfffcf",
   "metadata": {
    "id": "30cfffcf"
   },
   "outputs": [
    {
     "name": "stdout",
     "output_type": "stream",
     "text": [
      "Digite um numero: 22\n",
      "O numero escolhido foi 22\n"
     ]
    }
   ],
   "source": [
    "numero = int(input('Digite um numero: '))\n",
    "print(f'O numero escolhido foi {numero}')"
   ]
  },
  {
   "cell_type": "markdown",
   "id": "c5e43160",
   "metadata": {
    "id": "c5e43160"
   },
   "source": [
    "#### 3. Faça um Programa que peça dois números e imprima a soma."
   ]
  },
  {
   "cell_type": "code",
   "execution_count": 8,
   "id": "b0e79590",
   "metadata": {
    "id": "b0e79590"
   },
   "outputs": [
    {
     "name": "stdout",
     "output_type": "stream",
     "text": [
      "Digite o 1° numero: 11\n",
      "Digite o 2° numero:23\n",
      "A soma entre 11 e 23 é 34\n"
     ]
    }
   ],
   "source": [
    "num_1 = int(input('Digite o 1° numero: '))\n",
    "num_2 = int(input('Digite o 2° numero:'))\n",
    "print(f'A soma entre {num_1} e {num_2} é {num_1 + num_2}')"
   ]
  },
  {
   "cell_type": "markdown",
   "id": "17826987",
   "metadata": {
    "id": "17826987"
   },
   "source": [
    "#### 4. Faça um Programa que peça as 4 notas bimestrais de um aluno e mostre a média de todas as notas."
   ]
  },
  {
   "cell_type": "code",
   "execution_count": 10,
   "id": "23b66762",
   "metadata": {
    "id": "23b66762"
   },
   "outputs": [
    {
     "name": "stdout",
     "output_type": "stream",
     "text": [
      "Qual foi sua 1° nota: 2\n",
      "Qual foi sua 2° nota: 9\n",
      "Qual foi sua 3° nota: 10\n",
      "qual foi sua 4° nota: 7\n",
      "Suas 4 notas foram 2.0, 9.0, 10.0, 7.0. Resultando na media de 7.0\n"
     ]
    }
   ],
   "source": [
    "nota_1 = float(input('Qual foi sua 1° nota: '))\n",
    "nota_2 = float(input('Qual foi sua 2° nota: '))\n",
    "nota_3 = float(input('Qual foi sua 3° nota: '))\n",
    "nota_4 = float(input('qual foi sua 4° nota: '))\n",
    "media = (nota_1 + nota_2 + nota_3 + nota_4) / 4\n",
    "print(f'Suas 4 notas foram {nota_1}, {nota_2}, {nota_3}, {nota_4}. Resultando na media de {media}')"
   ]
  },
  {
   "cell_type": "markdown",
   "id": "62d461c5",
   "metadata": {
    "id": "62d461c5"
   },
   "source": [
    "#### 5. Faça um Programa que converta metros para centímetros. Você pode pedir o comprimento em metros para o usuário (input)."
   ]
  },
  {
   "cell_type": "code",
   "execution_count": 12,
   "id": "d642f1ba",
   "metadata": {
    "id": "d642f1ba"
   },
   "outputs": [
    {
     "name": "stdout",
     "output_type": "stream",
     "text": [
      "Digite o valor em metros que deseja mudar para centimetros: 23\n",
      "O valor que o senhor escolheu em centimetros é de 23000.0\n"
     ]
    }
   ],
   "source": [
    "metros = float(input('Digite o valor em metros que deseja mudar para centimetros: '))\n",
    "conversao = metros * 1000\n",
    "print(f'O valor que o senhor escolheu em centimetros é de {conversao}')"
   ]
  },
  {
   "cell_type": "markdown",
   "id": "f1311697",
   "metadata": {
    "id": "f1311697"
   },
   "source": [
    "#### 6. Faça um Programa que calcule a área de uma sala de um apartamento. Para isso, o seu programa precisa pedir a largura da sala, o comprimento da sala e imprimir a área em m² da sala."
   ]
  },
  {
   "cell_type": "code",
   "execution_count": 18,
   "id": "c7a3f15e",
   "metadata": {
    "id": "612ea24b"
   },
   "outputs": [
    {
     "name": "stdout",
     "output_type": "stream",
     "text": [
      "-----------Construção-----------\n",
      "Qual a altura do comodo: 20\n",
      "Qual a largura do comodo: 20\n",
      "A area do comodo é de 400.0m²\n",
      "-----------Construção-----------\n"
     ]
    }
   ],
   "source": [
    "print('-----------Construção-----------')\n",
    "altura = float(input('Qual a altura do comodo: '))\n",
    "largura = float(input('Qual a largura do comodo: '))\n",
    "area = largura * altura\n",
    "print(f'A area do comodo é de {area}m²')\n",
    "print('-----------Construção-----------')"
   ]
  },
  {
   "cell_type": "markdown",
   "id": "2a285929",
   "metadata": {
    "id": "2a285929"
   },
   "source": [
    "#### 7. Faça um Programa que pergunte quanto você ganha por hora e o número de horas trabalhadas no mês. Calcule e mostre o total do seu salário no referido mês."
   ]
  },
  {
   "cell_type": "code",
   "execution_count": 22,
   "id": "359e2232",
   "metadata": {
    "id": "359e2232"
   },
   "outputs": [
    {
     "name": "stdout",
     "output_type": "stream",
     "text": [
      "Quantas horas por mes voce trabalha: 80\n",
      "Quanto voce ganha por hora trabalhada: 12.3\n",
      "Seu salario por mes é 984.0\n"
     ]
    }
   ],
   "source": [
    "horas = int(input('Quantas horas por mes voce trabalha: '))\n",
    "ganha = float(input('Quanto voce ganha por hora trabalhada: '))\n",
    "mes = horas * ganha\n",
    "print(f'Seu salario por mes é {mes}')"
   ]
  },
  {
   "cell_type": "markdown",
   "id": "4e6f1b7e",
   "metadata": {
    "id": "7e2d4615"
   },
   "source": [
    "8. Vamos criar um conversor de temperatura. Faça um Programa que peça a temperatura em graus Fahrenheit, transforme e mostre a temperatura em graus Celsius.\n",
    "𝐶=5/9(𝐹−32)"
   ]
  },
  {
   "cell_type": "code",
   "execution_count": 29,
   "id": "82daf9fd",
   "metadata": {
    "id": "82daf9fd"
   },
   "outputs": [
    {
     "name": "stdout",
     "output_type": "stream",
     "text": [
      "----------Transformador----------\n",
      "Digite a temperatura em Fahrenheit: 70\n",
      "A temperatura é de 21.11111111111111\n"
     ]
    }
   ],
   "source": [
    "print('----------Transformador----------')\n",
    "f = int(input('Digite a temperatura em Fahrenheit: '))\n",
    "c = 5/9 * (f - 32)\n",
    "print(f'A temperatura é de {c}')"
   ]
  },
  {
   "cell_type": "markdown",
   "id": "20708b1c",
   "metadata": {
    "id": "20708b1c"
   },
   "source": [
    "#### 9. Faça um Programa que peça a temperatura em graus Celsius, transforme e mostre em graus Fahrenheit.\n",
    "$F = \\frac{9}{5}C + 32$"
   ]
  },
  {
   "cell_type": "code",
   "execution_count": 30,
   "id": "c73cfb38",
   "metadata": {
    "id": "c73cfb38"
   },
   "outputs": [
    {
     "name": "stdout",
     "output_type": "stream",
     "text": [
      "----------Transformador----------\n",
      "Qual a temperatura em c: 21\n",
      "A temperatura é de 69.80000000000001\n"
     ]
    }
   ],
   "source": [
    "print('----------Transformador----------')\n",
    "c = float(input('Qual a temperatura em c: '))\n",
    "f = (9/5 * c) + 32\n",
    "print('A temperatura é de {}'.format(f))"
   ]
  },
  {
   "cell_type": "markdown",
   "id": "b263a9dc",
   "metadata": {
    "id": "b263a9dc"
   },
   "source": [
    "#### 10. Tendo como dados de entrada a altura (h) de uma pessoa, construa um algoritmo que calcule seu peso ideal, usando a seguinte fórmula:\n",
    "$P = 72,7h - 58$\n",
    "\n",
    "Lembrando que \"algoritmo\" nada mais é do que um programa, como todos os outros que você vem fazendo"
   ]
  },
  {
   "cell_type": "code",
   "execution_count": 33,
   "id": "9a9b8dca",
   "metadata": {
    "id": "9a9b8dca"
   },
   "outputs": [
    {
     "name": "stdout",
     "output_type": "stream",
     "text": [
      "qual é a sua altura: 1.70\n",
      "Seu peso idela é  65.59\n"
     ]
    }
   ],
   "source": [
    "altura = float(input('qual é a sua altura: '))\n",
    "p = 72.7 * altura -58\n",
    "print('Seu peso idela é ', p)"
   ]
  },
  {
   "cell_type": "markdown",
   "id": "13bb40d7",
   "metadata": {
    "id": "13bb40d7"
   },
   "source": [
    "#### 11. Tendo como dado de entrada a altura (h) de uma pessoa, construa um algoritmo que calcule seu peso ideal, utilizando as seguintes fórmulas:\n",
    "##### a. Para homens: $P = 72,7h - 58$\n",
    "##### b. Para mulheres: $P = 62,1h - 44,7$"
   ]
  },
  {
   "cell_type": "code",
   "execution_count": 37,
   "id": "bf82dc8c",
   "metadata": {
    "id": "bf82dc8c"
   },
   "outputs": [
    {
     "name": "stdout",
     "output_type": "stream",
     "text": [
      "Digite seu genero M/F: F\n",
      "Qual é sua altura: 1.70\n",
      "O seu peso ideal é de 60.86999999999999 kilos\n"
     ]
    }
   ],
   "source": [
    "genero = input('Digite seu genero M/F: ')\n",
    "h = float(input('Qual é sua altura: '))\n",
    "if genero == 'M':\n",
    "    peso_ideal = 72.7 * h -58\n",
    "    print('O seu peso ideal é de {} kilos'.format(peso_ideal))\n",
    "else:\n",
    "    peso_ideal = 62.1 * h -44.7\n",
    "    print('O seu peso ideal é de {} kilos'.format(peso_ideal))"
   ]
  },
  {
   "cell_type": "markdown",
   "id": "f208ef89",
   "metadata": {
    "id": "f208ef89"
   },
   "source": [
    "#### 12. Faça um Programa que pergunte quanto você ganha por hora e o número de horas trabalhadas no mês."
   ]
  },
  {
   "cell_type": "code",
   "execution_count": 39,
   "id": "2d5b23e0",
   "metadata": {
    "id": "2d5b23e0"
   },
   "outputs": [
    {
     "name": "stdout",
     "output_type": "stream",
     "text": [
      "Quantas horas voce trabalha por mes: 120\n",
      "Quanto voce ganha por hora: 11.30\n"
     ]
    }
   ],
   "source": [
    "horas = float(input('Quantas horas voce trabalha por mes: '))\n",
    "ganho = float(input('Quanto voce ganha por hora: '))"
   ]
  },
  {
   "cell_type": "markdown",
   "id": "607dee3c",
   "metadata": {
    "id": "607dee3c"
   },
   "source": [
    "#####  Calcule o salário bruto (horas * salario por hora)"
   ]
  },
  {
   "cell_type": "code",
   "execution_count": 40,
   "id": "7f80ccbb",
   "metadata": {
    "id": "7f80ccbb"
   },
   "outputs": [
    {
     "name": "stdout",
     "output_type": "stream",
     "text": [
      "Seu salario bruto é de 1356.0 reais\n"
     ]
    }
   ],
   "source": [
    "salario = horas * ganho\n",
    "print(f'Seu salario bruto é de {salario} reais')"
   ]
  },
  {
   "cell_type": "markdown",
   "id": "2ed93cb0",
   "metadata": {
    "id": "2ed93cb0"
   },
   "source": [
    "##### Calcule o desconto do IR (11% do salário bruto)"
   ]
  },
  {
   "cell_type": "code",
   "execution_count": 41,
   "id": "3363e22f",
   "metadata": {
    "id": "3363e22f"
   },
   "outputs": [
    {
     "name": "stdout",
     "output_type": "stream",
     "text": [
      "Seu salario sem o IR é de  1206.84\n"
     ]
    }
   ],
   "source": [
    "desconto_IR = salario - (11/100 * salario)\n",
    "print('Seu salario sem o IR é de ', desconto_IR)"
   ]
  },
  {
   "cell_type": "markdown",
   "id": "0994b2c0",
   "metadata": {
    "id": "0994b2c0"
   },
   "source": [
    "##### Calcule o desconto do INSS (8% do salário bruto)"
   ]
  },
  {
   "cell_type": "code",
   "execution_count": 44,
   "id": "748c6088",
   "metadata": {
    "id": "748c6088"
   },
   "outputs": [
    {
     "name": "stdout",
     "output_type": "stream",
     "text": [
      "Seu salario sem o INSS é de  1247.52\n"
     ]
    }
   ],
   "source": [
    "desconto_INSS = salario - (8/100 * salario)\n",
    "print('Seu salario sem o INSS é de ', desconto_INSS)"
   ]
  },
  {
   "cell_type": "markdown",
   "id": "06e8dae4",
   "metadata": {
    "id": "06e8dae4"
   },
   "source": [
    "##### Calcule o desconto do sindicato (5% do salário bruto)"
   ]
  },
  {
   "cell_type": "code",
   "execution_count": 45,
   "id": "21b95b15",
   "metadata": {
    "id": "21b95b15",
    "scrolled": true
   },
   "outputs": [
    {
     "name": "stdout",
     "output_type": "stream",
     "text": [
      "Seu salario sem o desc do sindicato é de  1288.2\n"
     ]
    }
   ],
   "source": [
    "desconto_sind = salario - (salario * 5/100)\n",
    "print('Seu salario sem o desc do sindicato é de ', desconto_sind)"
   ]
  },
  {
   "cell_type": "markdown",
   "id": "bb14ce36",
   "metadata": {
    "id": "bb14ce36"
   },
   "source": [
    "##### Calcule o salário líquido (salário bruto - descontos)"
   ]
  },
  {
   "cell_type": "code",
   "execution_count": 47,
   "id": "56317086",
   "metadata": {
    "id": "56317086"
   },
   "outputs": [
    {
     "name": "stdout",
     "output_type": "stream",
     "text": [
      "Se formos tirar todos os impostos seu salario de 1356.0 reais fica:\n",
      "processando...\n",
      "1030.56  reais\n"
     ]
    }
   ],
   "source": [
    "import time\n",
    "print(f'Se formos tirar todos os impostos seu salario de {salario} reais fica:')\n",
    "print('processando...')\n",
    "time.sleep(3)\n",
    "desconto_total = salario - (24/100 * salario)\n",
    "print(desconto_total, ' reais')"
   ]
  },
  {
   "cell_type": "markdown",
   "id": "cfbfcc87",
   "metadata": {
    "id": "cfbfcc87"
   },
   "source": [
    "#### 13. Faça um programa para uma loja de tintas. O programa deverá pedir o tamanho em metros quadrados da área a ser pintada. Considere que a cobertura da tinta é de 1 litro para cada 3 metros quadrados e que a tinta é vendida em latas de 18 litros, que custam R\\$ 80,00. Informe ao usuário a quantidades de latas de tinta a serem compradas e o preço total. (para simplificação nesse momento, não se preocupe em arredondar a quantidade de latas a serem compradas - vamos trabalhar isso em breve)"
   ]
  },
  {
   "cell_type": "code",
   "execution_count": null,
   "id": "fb6a083b",
   "metadata": {
    "id": "fb6a083b"
   },
   "outputs": [],
   "source": []
  },
  {
   "cell_type": "markdown",
   "id": "d6503c92",
   "metadata": {
    "id": "d6503c92"
   },
   "source": [
    "#### 14. Faça um programa que peça o tamanho de um arquivo para download (em MB) e a velocidade de um link de Internet (em Mbps), calcule e informe o tempo aproximado de download do arquivo usando este link (em minutos).\n",
    "\n",
    "Detalhe: MB significa megabyte, Mb (com b minúsculo) significa megabit. Um megabit é 1/8 de um megabyte. "
   ]
  },
  {
   "cell_type": "code",
   "execution_count": null,
   "id": "0563aa62",
   "metadata": {
    "id": "0563aa62"
   },
   "outputs": [],
   "source": []
  }
 ],
 "metadata": {
  "colab": {
   "provenance": []
  },
  "kernelspec": {
   "display_name": "Python 3 (ipykernel)",
   "language": "python",
   "name": "python3"
  },
  "language_info": {
   "codemirror_mode": {
    "name": "ipython",
    "version": 3
   },
   "file_extension": ".py",
   "mimetype": "text/x-python",
   "name": "python",
   "nbconvert_exporter": "python",
   "pygments_lexer": "ipython3",
   "version": "3.9.12"
  }
 },
 "nbformat": 4,
 "nbformat_minor": 5
}
