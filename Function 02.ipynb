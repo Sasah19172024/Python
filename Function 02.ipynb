{
 "cells": [
  {
   "cell_type": "markdown",
   "metadata": {},
   "source": [
    "# Retornar um valor na Function Python\n",
    "\n",
    "### Estrutura Básica"
   ]
  },
  {
   "cell_type": "raw",
   "metadata": {},
   "source": [
    "def nome_funcao():\n",
    "    return valor_final"
   ]
  },
  {
   "cell_type": "markdown",
   "metadata": {},
   "source": [
    "- Exemplo: vamos criar uma função de cadastro de um Produto. Essa função deve garantir que o produto cadastrado está em letra minúscula."
   ]
  },
  {
   "cell_type": "code",
   "execution_count": 1,
   "metadata": {},
   "outputs": [],
   "source": [
    "def cadastrar_produto():\n",
    "    produto = input('Digite o nome do produto que deseja cadastrar: ')\n",
    "    produto = produto.casefold()\n",
    "    produto = produto.strip()\n",
    "    return produto\n"
   ]
  },
  {
   "cell_type": "code",
   "execution_count": 8,
   "metadata": {},
   "outputs": [
    {
     "name": "stdout",
     "output_type": "stream",
     "text": [
      "Digite o nome do produto que deseja cadastrarFeijao\n",
      "feijao\n"
     ]
    }
   ],
   "source": [
    "nova_variavel = cadastrar_produto()\n",
    "print(nova_variavel)"
   ]
  },
  {
   "cell_type": "code",
   "execution_count": 14,
   "metadata": {},
   "outputs": [
    {
     "name": "stdout",
     "output_type": "stream",
     "text": [
      "Digite o nome do produto que deseja cadastrar: feijao\n",
      "feijao\n"
     ]
    }
   ],
   "source": [
    "def cadastrar_produto():\n",
    "    pro = input('Digite o nome do produto que deseja cadastrar: ')\n",
    "    pro = pro.casefold()\n",
    "    pro = pro.strip()\n",
    "    return pro\n",
    "\n",
    "\n",
    "d = cadastrar_produto()\n",
    "print(d)\n"
   ]
  },
  {
   "cell_type": "code",
   "execution_count": 4,
   "metadata": {},
   "outputs": [
    {
     "name": "stdout",
     "output_type": "stream",
     "text": [
      "Digite um produto: Feijao\n",
      "feijao\n",
      "Digite um produto: MaccaRRao\n",
      "maccarrao\n",
      "Digite um produto: Aerooz\n",
      "aerooz\n",
      "['feijao', 'maccarrao', 'aerooz']\n"
     ]
    }
   ],
   "source": [
    "def cadastro():\n",
    "    prod = input('Digite um produto: ')\n",
    "    prod = prod.lower()\n",
    "    prod = prod.strip()\n",
    "    return prod\n",
    "l = []\n",
    "for i in range(3):\n",
    "    cad = cadastro()\n",
    "    print(cad)\n",
    "    l.append(cad)\n",
    "    \n",
    "print(l)"
   ]
  },
  {
   "cell_type": "code",
   "execution_count": null,
   "metadata": {},
   "outputs": [],
   "source": []
  }
 ],
 "metadata": {
  "kernelspec": {
   "display_name": "Python 3 (ipykernel)",
   "language": "python",
   "name": "python3"
  },
  "language_info": {
   "codemirror_mode": {
    "name": "ipython",
    "version": 3
   },
   "file_extension": ".py",
   "mimetype": "text/x-python",
   "name": "python",
   "nbconvert_exporter": "python",
   "pygments_lexer": "ipython3",
   "version": "3.9.12"
  }
 },
 "nbformat": 4,
 "nbformat_minor": 4
}
